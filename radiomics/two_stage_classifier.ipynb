{
 "cells": [
  {
   "attachments": {},
   "cell_type": "markdown",
   "metadata": {
    "collapsed": false,
    "pycharm": {
     "name": "#%% md\n"
    }
   },
   "source": [
    "# Two Stage Sequential Classifier"
   ]
  },
  {
   "attachments": {},
   "cell_type": "markdown",
   "metadata": {
    "collapsed": false,
    "pycharm": {
     "name": "#%% md\n"
    }
   },
   "source": [
    "## Required Imports"
   ]
  },
  {
   "cell_type": "code",
   "execution_count": 603,
   "metadata": {
    "ExecuteTime": {
     "end_time": "2023-05-02T08:01:22.640563429Z",
     "start_time": "2023-05-02T08:01:22.421582502Z"
    },
    "collapsed": false,
    "pycharm": {
     "name": "#%%\n"
    }
   },
   "outputs": [],
   "source": [
    "import matplotlib.pyplot as plt\n",
    "import numpy as np\n",
    "import pandas as pd\n",
    "import seaborn as sns\n",
    "from sklearn import preprocessing\n",
    "from sklearn.metrics import accuracy_score, auc, confusion_matrix, f1_score, ConfusionMatrixDisplay, precision_score, recall_score, roc_curve\n",
    "from sklearn.model_selection import GridSearchCV, train_test_split\n",
    "from sklearn.neural_network import MLPClassifier\n",
    "from sklearn.preprocessing import label_binarize\n",
    "from sklearn.utils import resample\n",
    "from sklearn.utils.multiclass import unique_labels"
   ]
  },
  {
   "attachments": {},
   "cell_type": "markdown",
   "metadata": {
    "collapsed": false,
    "pycharm": {
     "name": "#%% md\n"
    }
   },
   "source": [
    "## User Defined Functions"
   ]
  },
  {
   "cell_type": "code",
   "execution_count": 604,
   "metadata": {
    "ExecuteTime": {
     "end_time": "2023-05-02T08:01:22.654696345Z",
     "start_time": "2023-05-02T08:01:22.641225986Z"
    },
    "collapsed": false,
    "pycharm": {
     "name": "#%%\n"
    }
   },
   "outputs": [],
   "source": [
    "def create_confusion_matrix(y_true, y_pred, labels=None, sample_weight=None, normalize=None, display_labels=None, include_values=True, xticks_rotation='horizontal', values_format=None, cmap='viridis', ax=None, colorbar=True):\n",
    "    \n",
    "    cm = confusion_matrix(y_true, y_pred, normalize=normalize)\n",
    "    \n",
    "    if display_labels is None:\n",
    "        if labels is None:\n",
    "            display_labels = unique_labels(y_true, y_pred)\n",
    "        else:\n",
    "            display_labels = labels\n",
    "\n",
    "    disp = ConfusionMatrixDisplay(confusion_matrix=cm,\n",
    "                             display_labels=display_labels)\n",
    "    return disp.plot(include_values=include_values,\n",
    "                     cmap=cmap, ax=ax, xticks_rotation=xticks_rotation,\n",
    "                     values_format=values_format)"
   ]
  },
  {
   "cell_type": "code",
   "execution_count": 605,
   "metadata": {
    "ExecuteTime": {
     "end_time": "2023-05-02T08:01:22.655146865Z",
     "start_time": "2023-05-02T08:01:22.644683347Z"
    },
    "collapsed": false,
    "pycharm": {
     "name": "#%%\n"
    }
   },
   "outputs": [],
   "source": [
    "def specificity_score(y_true, y_pred):\n",
    "    TN = 0\n",
    "    FP = 0\n",
    "    for i in range(len(y_pred)):\n",
    "        if y_pred[i] == 0 and y_true[i] == 0:\n",
    "            TN += 1\n",
    "        if y_pred[i] == 1 and y_true[i] == 0:\n",
    "            FP += 1\n",
    "    \n",
    "    return TN / (TN + FP)"
   ]
  },
  {
   "cell_type": "code",
   "execution_count": 606,
   "metadata": {
    "ExecuteTime": {
     "end_time": "2023-05-02T08:01:22.655436940Z",
     "start_time": "2023-05-02T08:01:22.650702116Z"
    },
    "collapsed": false,
    "pycharm": {
     "name": "#%%\n"
    }
   },
   "outputs": [],
   "source": [
    "def positive_pv_score(y_true, y_pred):\n",
    "    TP = 0\n",
    "    FP = 0\n",
    "    for i in range(len(y_true)):\n",
    "        if y_true[i] == y_pred[i] == 1:\n",
    "            TP += 1\n",
    "        elif y_true[i] == 0 and y_pred[i] == 1:\n",
    "            FP += 1\n",
    "\n",
    "    return TP/(TP+FP)"
   ]
  },
  {
   "cell_type": "code",
   "execution_count": 607,
   "metadata": {
    "ExecuteTime": {
     "end_time": "2023-05-02T08:01:22.667244508Z",
     "start_time": "2023-05-02T08:01:22.657477463Z"
    },
    "collapsed": false,
    "pycharm": {
     "name": "#%%\n"
    }
   },
   "outputs": [],
   "source": [
    "def negative_pv_score(y_true, y_pred):\n",
    "    TN = 0\n",
    "    FN = 0\n",
    "    for i in range(len(y_true)):\n",
    "        if y_true[i] == y_pred[i] == 0:\n",
    "            TN += 1\n",
    "        elif y_true[i] == 1 and y_pred[i] == 0:\n",
    "            FN += 1\n",
    "    \n",
    "    return TN/(TN+FN) "
   ]
  },
  {
   "cell_type": "code",
   "execution_count": 608,
   "metadata": {
    "ExecuteTime": {
     "end_time": "2023-05-02T08:01:22.743221345Z",
     "start_time": "2023-05-02T08:01:22.664861677Z"
    },
    "collapsed": false,
    "pycharm": {
     "name": "#%%\n"
    }
   },
   "outputs": [],
   "source": [
    "def create_ci(bootstrapped_scores, name):\n",
    "    for i in range(3):\n",
    "        sorted_scores = np.array(bootstrapped_scores)[:, i]\n",
    "        sorted_scores.sort()\n",
    "    \n",
    "        confidence_lower = sorted_scores[int(0.025 * len(sorted_scores))]\n",
    "        confidence_upper = sorted_scores[int(0.975 * len(sorted_scores))]\n",
    "    \n",
    "        print(\"95% Confidence interval for the {} score for class {}: [{:0.4f} - {:0.4}]\".format(name, i,\n",
    "        confidence_lower, confidence_upper))"
   ]
  },
  {
   "cell_type": "code",
   "execution_count": 609,
   "metadata": {
    "ExecuteTime": {
     "end_time": "2023-05-02T08:01:22.743482790Z",
     "start_time": "2023-05-02T08:01:22.708812733Z"
    },
    "collapsed": false,
    "pycharm": {
     "name": "#%%\n"
    }
   },
   "outputs": [],
   "source": [
    "\n",
    "def my_classification_report(y_test_np, y_pred):\n",
    "    import torch\n",
    "    y_test = torch.from_numpy(y_test_np)\n",
    "    y_pred = torch.from_numpy(y_pred)\n",
    "    from torchmetrics import F1Score, Accuracy, Precision, Recall\n",
    "    for name, metric_cls in [\n",
    "        ('Precision', Precision),\n",
    "        ('Recall', Recall),\n",
    "        ('F1', F1Score),\n",
    "    ]:\n",
    "        print(name)\n",
    "        metric = metric_cls(task='multiclass', num_classes=3, average='none')(y_pred, y_test)\n",
    "        for i, group in enumerate(['G34', 'SHH', 'WNT']):\n",
    "            print(group, metric[i].item())\n",
    "        print(f\"Macro Avg: {metric.mean().item()}\")\n",
    "    \n",
    "    print('multiclass acc:', (y_test == y_pred).sum() / len(y_test))"
   ]
  },
  {
   "cell_type": "code",
   "execution_count": 610,
   "metadata": {
    "ExecuteTime": {
     "end_time": "2023-05-02T08:01:22.743675255Z",
     "start_time": "2023-05-02T08:01:22.709272576Z"
    },
    "collapsed": false,
    "pycharm": {
     "name": "#%%\n"
    }
   },
   "outputs": [],
   "source": [
    "def print_metrics(y_test, y_pred):\n",
    "    def print_metric(metric_name, metric):\n",
    "        for i, cls_name in enumerate(['G34', 'WS']):\n",
    "            print(f\"{metric_name} {cls_name} {metric(y_test, y_pred, pos_label=i)}\")\n",
    "        print(f\"{metric_name} macro {metric(y_test, y_pred, average='macro')}\")\n",
    "    print_metric('Precision', precision_score)\n",
    "    print_metric('Recall', recall_score)\n",
    "    print_metric('F1', f1_score)\n",
    "    print(\"Acc Score: \" + str.format('{0:.4f}', (accuracy_score(y_test, y_pred))))"
   ]
  },
  {
   "cell_type": "code",
   "execution_count": 611,
   "metadata": {
    "ExecuteTime": {
     "end_time": "2023-05-02T08:01:22.743842461Z",
     "start_time": "2023-05-02T08:01:22.709572728Z"
    },
    "collapsed": false,
    "pycharm": {
     "name": "#%%\n"
    }
   },
   "outputs": [],
   "source": [
    "def plot_roc_curve(model_name):\n",
    "    sns.set()\n",
    "    plt.figure(figsize=(7, 7))\n",
    "\n",
    "    ns_preds = [0 for _ in range(len(y_test))]\n",
    "\n",
    "    ns_fpr, ns_tpr, _ = roc_curve(y_test, ns_preds)\n",
    "\n",
    "    plt.plot(ns_fpr, ns_tpr, linestyle='--', label='No Skill')\n",
    "    plt.plot(fpr, tpr, marker='.', label=model_name)\n",
    "    plt.xlabel('1 - Specificity (False Positive Rate)',fontsize=16)\n",
    "    plt.ylabel('Sensitivity (True Positive Rate)',fontsize=16)\n",
    "\n",
    "    plt.legend(loc='lower right')\n",
    "    plt.title(f'{model_name}: ROC Curve for Test Set', fontsize=20, fontweight=\"semibold\")\n",
    "    short_auc = round(auc,4)\n",
    "    plt.text(.93,.1, \"AUC: \" + str(short_auc), \n",
    "        horizontalalignment=\"center\", verticalalignment=\"center\",\n",
    "        fontsize=14, fontweight=\"semibold\")\n",
    "    \n",
    "    plt.show()"
   ]
  },
  {
   "cell_type": "code",
   "execution_count": 612,
   "metadata": {
    "ExecuteTime": {
     "end_time": "2023-05-02T08:01:22.768347884Z",
     "start_time": "2023-05-02T08:01:22.709950994Z"
    },
    "collapsed": false,
    "pycharm": {
     "name": "#%%\n"
    }
   },
   "outputs": [],
   "source": [
    "def create_intermed_confusion_matrix(model_name, model, X, y, normalize=None):\n",
    "    matrix = ConfusionMatrixDisplay.from_estimator(model, X, y,\n",
    "                               cmap=plt.cm.Blues,\n",
    "                                  normalize=normalize)\n",
    "    plt.title(f'{model_name} Confusion Matrix')\n",
    "    plt.show(matrix)\n",
    "    plt.show()"
   ]
  },
  {
   "cell_type": "code",
   "execution_count": 613,
   "metadata": {
    "ExecuteTime": {
     "end_time": "2023-05-02T08:01:22.768825276Z",
     "start_time": "2023-05-02T08:01:22.752492978Z"
    },
    "collapsed": false,
    "pycharm": {
     "name": "#%%\n"
    }
   },
   "outputs": [],
   "source": [
    "def grid_search(model, params, X_train, y_train):\n",
    "    grid = GridSearchCV(estimator=model,\n",
    "                       param_grid=params,\n",
    "                       scoring='accuracy',\n",
    "                       cv=5,\n",
    "                       n_jobs=-1)\n",
    "    grid.fit(X_train, y_train)\n",
    "    return grid.best_params_"
   ]
  },
  {
   "attachments": {},
   "cell_type": "markdown",
   "metadata": {
    "collapsed": false,
    "pycharm": {
     "name": "#%% md\n"
    }
   },
   "source": [
    "## Data Loading"
   ]
  },
  {
   "cell_type": "code",
   "execution_count": 614,
   "metadata": {
    "ExecuteTime": {
     "end_time": "2023-05-02T08:01:22.874470069Z",
     "start_time": "2023-05-02T08:01:22.752830111Z"
    },
    "collapsed": false,
    "pycharm": {
     "name": "#%%\n"
    }
   },
   "outputs": [
    {
     "data": {
      "text/html": [
       "<div>\n",
       "<style scoped>\n",
       "    .dataframe tbody tr th:only-of-type {\n",
       "        vertical-align: middle;\n",
       "    }\n",
       "\n",
       "    .dataframe tbody tr th {\n",
       "        vertical-align: top;\n",
       "    }\n",
       "\n",
       "    .dataframe thead th {\n",
       "        text-align: right;\n",
       "    }\n",
       "</style>\n",
       "<table border=\"1\" class=\"dataframe\">\n",
       "  <thead>\n",
       "    <tr style=\"text-align: right;\">\n",
       "      <th></th>\n",
       "      <th>case</th>\n",
       "      <th>molecular</th>\n",
       "      <th>split</th>\n",
       "      <th>sex</th>\n",
       "      <th>age</th>\n",
       "      <th>t1_diagnostics_Versions_PyRadiomics</th>\n",
       "      <th>t1_diagnostics_Versions_Numpy</th>\n",
       "      <th>t1_diagnostics_Versions_SimpleITK</th>\n",
       "      <th>t1_diagnostics_Versions_PyWavelet</th>\n",
       "      <th>t1_diagnostics_Versions_Python</th>\n",
       "      <th>...</th>\n",
       "      <th>t2_wavelet-LLL_glszm_LargeAreaLowGrayLevelEmphasis</th>\n",
       "      <th>t2_wavelet-LLL_glszm_LowGrayLevelZoneEmphasis</th>\n",
       "      <th>t2_wavelet-LLL_glszm_SizeZoneNonUniformity</th>\n",
       "      <th>t2_wavelet-LLL_glszm_SizeZoneNonUniformityNormalized</th>\n",
       "      <th>t2_wavelet-LLL_glszm_SmallAreaEmphasis</th>\n",
       "      <th>t2_wavelet-LLL_glszm_SmallAreaHighGrayLevelEmphasis</th>\n",
       "      <th>t2_wavelet-LLL_glszm_SmallAreaLowGrayLevelEmphasis</th>\n",
       "      <th>t2_wavelet-LLL_glszm_ZoneEntropy</th>\n",
       "      <th>t2_wavelet-LLL_glszm_ZonePercentage</th>\n",
       "      <th>t2_wavelet-LLL_glszm_ZoneVariance</th>\n",
       "    </tr>\n",
       "  </thead>\n",
       "  <tbody>\n",
       "    <tr>\n",
       "      <th>0</th>\n",
       "      <td>212716</td>\n",
       "      <td>shh</td>\n",
       "      <td>1</td>\n",
       "      <td>0</td>\n",
       "      <td>35.0</td>\n",
       "      <td>v3.0.1</td>\n",
       "      <td>1.24.3</td>\n",
       "      <td>2.2.1</td>\n",
       "      <td>1.4.1</td>\n",
       "      <td>3.10.10</td>\n",
       "      <td>...</td>\n",
       "      <td>0.026191</td>\n",
       "      <td>0.000914</td>\n",
       "      <td>2512.151097</td>\n",
       "      <td>0.393754</td>\n",
       "      <td>0.651604</td>\n",
       "      <td>1918.935163</td>\n",
       "      <td>0.000685</td>\n",
       "      <td>8.103643</td>\n",
       "      <td>0.364780</td>\n",
       "      <td>73.645028</td>\n",
       "    </tr>\n",
       "    <tr>\n",
       "      <th>1</th>\n",
       "      <td>220204</td>\n",
       "      <td>group4</td>\n",
       "      <td>2</td>\n",
       "      <td>1</td>\n",
       "      <td>22.0</td>\n",
       "      <td>v3.0.1</td>\n",
       "      <td>1.24.3</td>\n",
       "      <td>2.2.1</td>\n",
       "      <td>1.4.1</td>\n",
       "      <td>3.10.10</td>\n",
       "      <td>...</td>\n",
       "      <td>0.045723</td>\n",
       "      <td>0.002111</td>\n",
       "      <td>2670.044883</td>\n",
       "      <td>0.435783</td>\n",
       "      <td>0.686319</td>\n",
       "      <td>1419.813827</td>\n",
       "      <td>0.001417</td>\n",
       "      <td>7.934767</td>\n",
       "      <td>0.433004</td>\n",
       "      <td>18.896570</td>\n",
       "    </tr>\n",
       "    <tr>\n",
       "      <th>2</th>\n",
       "      <td>234406</td>\n",
       "      <td>group4</td>\n",
       "      <td>4</td>\n",
       "      <td>1</td>\n",
       "      <td>26.0</td>\n",
       "      <td>v3.0.1</td>\n",
       "      <td>1.24.3</td>\n",
       "      <td>2.2.1</td>\n",
       "      <td>1.4.1</td>\n",
       "      <td>3.10.10</td>\n",
       "      <td>...</td>\n",
       "      <td>0.015780</td>\n",
       "      <td>0.001037</td>\n",
       "      <td>2894.365780</td>\n",
       "      <td>0.396815</td>\n",
       "      <td>0.654527</td>\n",
       "      <td>1759.160320</td>\n",
       "      <td>0.000632</td>\n",
       "      <td>8.058357</td>\n",
       "      <td>0.405493</td>\n",
       "      <td>17.069254</td>\n",
       "    </tr>\n",
       "    <tr>\n",
       "      <th>3</th>\n",
       "      <td>243030</td>\n",
       "      <td>shh</td>\n",
       "      <td>3</td>\n",
       "      <td>1</td>\n",
       "      <td>34.0</td>\n",
       "      <td>v3.0.1</td>\n",
       "      <td>1.24.3</td>\n",
       "      <td>2.2.1</td>\n",
       "      <td>1.4.1</td>\n",
       "      <td>3.10.10</td>\n",
       "      <td>...</td>\n",
       "      <td>1.771472</td>\n",
       "      <td>0.000828</td>\n",
       "      <td>3931.643936</td>\n",
       "      <td>0.403784</td>\n",
       "      <td>0.660745</td>\n",
       "      <td>2215.427751</td>\n",
       "      <td>0.000581</td>\n",
       "      <td>8.079126</td>\n",
       "      <td>0.175195</td>\n",
       "      <td>8279.544143</td>\n",
       "    </tr>\n",
       "    <tr>\n",
       "      <th>4</th>\n",
       "      <td>248063</td>\n",
       "      <td>shh</td>\n",
       "      <td>0</td>\n",
       "      <td>1</td>\n",
       "      <td>37.0</td>\n",
       "      <td>v3.0.1</td>\n",
       "      <td>1.24.3</td>\n",
       "      <td>2.2.1</td>\n",
       "      <td>1.4.1</td>\n",
       "      <td>3.10.10</td>\n",
       "      <td>...</td>\n",
       "      <td>0.617026</td>\n",
       "      <td>0.001642</td>\n",
       "      <td>1492.182540</td>\n",
       "      <td>0.370085</td>\n",
       "      <td>0.631286</td>\n",
       "      <td>848.080953</td>\n",
       "      <td>0.001149</td>\n",
       "      <td>7.561874</td>\n",
       "      <td>0.257143</td>\n",
       "      <td>613.609678</td>\n",
       "    </tr>\n",
       "  </tbody>\n",
       "</table>\n",
       "<p>5 rows × 1879 columns</p>\n",
       "</div>"
      ],
      "text/plain": [
       "     case molecular split  sex   age t1_diagnostics_Versions_PyRadiomics   \n",
       "0  212716       shh     1    0  35.0                              v3.0.1  \\\n",
       "1  220204    group4     2    1  22.0                              v3.0.1   \n",
       "2  234406    group4     4    1  26.0                              v3.0.1   \n",
       "3  243030       shh     3    1  34.0                              v3.0.1   \n",
       "4  248063       shh     0    1  37.0                              v3.0.1   \n",
       "\n",
       "  t1_diagnostics_Versions_Numpy t1_diagnostics_Versions_SimpleITK   \n",
       "0                        1.24.3                             2.2.1  \\\n",
       "1                        1.24.3                             2.2.1   \n",
       "2                        1.24.3                             2.2.1   \n",
       "3                        1.24.3                             2.2.1   \n",
       "4                        1.24.3                             2.2.1   \n",
       "\n",
       "  t1_diagnostics_Versions_PyWavelet t1_diagnostics_Versions_Python  ...   \n",
       "0                             1.4.1                        3.10.10  ...  \\\n",
       "1                             1.4.1                        3.10.10  ...   \n",
       "2                             1.4.1                        3.10.10  ...   \n",
       "3                             1.4.1                        3.10.10  ...   \n",
       "4                             1.4.1                        3.10.10  ...   \n",
       "\n",
       "  t2_wavelet-LLL_glszm_LargeAreaLowGrayLevelEmphasis   \n",
       "0                                           0.026191  \\\n",
       "1                                           0.045723   \n",
       "2                                           0.015780   \n",
       "3                                           1.771472   \n",
       "4                                           0.617026   \n",
       "\n",
       "  t2_wavelet-LLL_glszm_LowGrayLevelZoneEmphasis   \n",
       "0                                      0.000914  \\\n",
       "1                                      0.002111   \n",
       "2                                      0.001037   \n",
       "3                                      0.000828   \n",
       "4                                      0.001642   \n",
       "\n",
       "  t2_wavelet-LLL_glszm_SizeZoneNonUniformity   \n",
       "0                                2512.151097  \\\n",
       "1                                2670.044883   \n",
       "2                                2894.365780   \n",
       "3                                3931.643936   \n",
       "4                                1492.182540   \n",
       "\n",
       "  t2_wavelet-LLL_glszm_SizeZoneNonUniformityNormalized   \n",
       "0                                           0.393754    \\\n",
       "1                                           0.435783     \n",
       "2                                           0.396815     \n",
       "3                                           0.403784     \n",
       "4                                           0.370085     \n",
       "\n",
       "  t2_wavelet-LLL_glszm_SmallAreaEmphasis   \n",
       "0                               0.651604  \\\n",
       "1                               0.686319   \n",
       "2                               0.654527   \n",
       "3                               0.660745   \n",
       "4                               0.631286   \n",
       "\n",
       "  t2_wavelet-LLL_glszm_SmallAreaHighGrayLevelEmphasis   \n",
       "0                                        1918.935163   \\\n",
       "1                                        1419.813827    \n",
       "2                                        1759.160320    \n",
       "3                                        2215.427751    \n",
       "4                                         848.080953    \n",
       "\n",
       "   t2_wavelet-LLL_glszm_SmallAreaLowGrayLevelEmphasis   \n",
       "0                                           0.000685   \\\n",
       "1                                           0.001417    \n",
       "2                                           0.000632    \n",
       "3                                           0.000581    \n",
       "4                                           0.001149    \n",
       "\n",
       "   t2_wavelet-LLL_glszm_ZoneEntropy  t2_wavelet-LLL_glszm_ZonePercentage   \n",
       "0                          8.103643                             0.364780  \\\n",
       "1                          7.934767                             0.433004   \n",
       "2                          8.058357                             0.405493   \n",
       "3                          8.079126                             0.175195   \n",
       "4                          7.561874                             0.257143   \n",
       "\n",
       "  t2_wavelet-LLL_glszm_ZoneVariance  \n",
       "0                         73.645028  \n",
       "1                         18.896570  \n",
       "2                         17.069254  \n",
       "3                       8279.544143  \n",
       "4                        613.609678  \n",
       "\n",
       "[5 rows x 1879 columns]"
      ]
     },
     "execution_count": 614,
     "metadata": {},
     "output_type": "execute_result"
    }
   ],
   "source": [
    "# load data\n",
    "df = pd.read_csv(\"features.csv\")\n",
    "sex_binarized = df['sex'].map(lambda sex: {'F': 0, 'M': 1}.get(sex, -1)).to_numpy()\n",
    "df['sex'] = sex_binarized\n",
    "df['age'] = df['age'].map(lambda x: 0 if pd.isna(x) else x)\n",
    "df.head()"
   ]
  },
  {
   "cell_type": "code",
   "execution_count": 615,
   "metadata": {
    "ExecuteTime": {
     "end_time": "2023-05-02T08:01:22.878126895Z",
     "start_time": "2023-05-02T08:01:22.875440185Z"
    },
    "collapsed": false,
    "pycharm": {
     "name": "#%%\n"
    }
   },
   "outputs": [],
   "source": [
    "# obtain list of features selected from LASSO\n",
    "reduced_features_list = ['sex', 'age', 't1_log-sigma-1-mm-3D_glszm_SmallAreaLowGrayLevelEmphasis', 't1_log-sigma-3-mm-3D_firstorder_Median', 't1_log-sigma-3-mm-3D_glcm_ClusterProminence', 't1_log-sigma-3-mm-3D_glrlm_LowGrayLevelRunEmphasis', 't1_log-sigma-5-mm-3D_glszm_GrayLevelVariance', 't1_original_glszm_LargeAreaHighGrayLevelEmphasis', 't1_original_glszm_LargeAreaLowGrayLevelEmphasis', 't1_original_shape_Flatness', 't1_wavelet-HHL_firstorder_Skewness', 't1_wavelet-HLL_firstorder_Mean', 't1_wavelet-HLL_glcm_Correlation', 't1_wavelet-LHL_glcm_Correlation', 't1_wavelet-LLH_glszm_LargeAreaLowGrayLevelEmphasis', 't1_wavelet-LLL_firstorder_Skewness', 't1_wavelet-LLL_glszm_ZoneVariance', 't2_log-sigma-1-mm-3D_firstorder_Mean', 't2_log-sigma-1-mm-3D_firstorder_Median', 't2_log-sigma-1-mm-3D_glcm_Correlation', 't2_log-sigma-5-mm-3D_firstorder_Kurtosis', 't2_log-sigma-5-mm-3D_glrlm_RunLengthNonUniformity', 't2_log-sigma-5-mm-3D_glszm_SmallAreaEmphasis', 't2_original_glszm_GrayLevelNonUniformity', 't2_wavelet-HHH_glrlm_RunPercentage', 't2_wavelet-HHH_glszm_LargeAreaEmphasis', 't2_wavelet-HHH_glszm_SmallAreaLowGrayLevelEmphasis', 't2_wavelet-HHL_glcm_ClusterProminence', 't2_wavelet-HHL_glrlm_LongRunHighGrayLevelEmphasis', 't2_wavelet-HHL_glszm_LargeAreaHighGrayLevelEmphasis', 't2_wavelet-HLH_glszm_SizeZoneNonUniformityNormalized', 't2_wavelet-HLL_firstorder_Mean', 't2_wavelet-LHH_firstorder_Mean', 't2_wavelet-LHH_glszm_GrayLevelNonUniformityNormalized', 't2_wavelet-LHL_glcm_Idn', 't2_wavelet-LLL_firstorder_Energy', 't2_wavelet-LLL_glcm_JointAverage', 't1_log-sigma-3-mm-3D_glrlm_ShortRunLowGrayLevelEmphasis', 't1_wavelet-HHH_firstorder_Skewness', 't1_wavelet-HHH_glszm_LargeAreaHighGrayLevelEmphasis', 't1_wavelet-HHL_glcm_ClusterProminence', 't1_wavelet-LHH_firstorder_Median', 't2_log-sigma-5-mm-3D_glcm_Imc2', 't2_original_glcm_Idmn', 't2_wavelet-LLL_firstorder_Median', 't2_wavelet-HHH_firstorder_Skewness', 't2_original_firstorder_Kurtosis', 't2_wavelet-LLL_firstorder_TotalEnergy']"
   ]
  },
  {
   "attachments": {},
   "cell_type": "markdown",
   "metadata": {
    "collapsed": false,
    "pycharm": {
     "name": "#%% md\n"
    }
   },
   "source": [
    "## NN1: group3+4 vs rest (First Sequential)"
   ]
  },
  {
   "attachments": {},
   "cell_type": "markdown",
   "metadata": {
    "collapsed": false,
    "pycharm": {
     "name": "#%% md\n"
    }
   },
   "source": [
    "### Data Preprocessing"
   ]
  },
  {
   "cell_type": "code",
   "execution_count": 616,
   "metadata": {
    "ExecuteTime": {
     "end_time": "2023-05-02T08:01:22.958301418Z",
     "start_time": "2023-05-02T08:01:22.881084603Z"
    },
    "collapsed": false,
    "pycharm": {
     "name": "#%%\n"
    }
   },
   "outputs": [],
   "source": [
    "first_features = df[reduced_features_list]"
   ]
  },
  {
   "cell_type": "code",
   "execution_count": 617,
   "metadata": {
    "ExecuteTime": {
     "end_time": "2023-05-02T08:01:22.969333169Z",
     "start_time": "2023-05-02T08:01:22.924573687Z"
    },
    "collapsed": false,
    "pycharm": {
     "name": "#%%\n"
    }
   },
   "outputs": [
    {
     "name": "stdout",
     "output_type": "stream",
     "text": [
      "molecular\n",
      "0    155\n",
      "1    107\n",
      "Name: count, dtype: int64\n"
     ]
    }
   ],
   "source": [
    "# Binarizing target\n",
    "first_target = df[\"molecular\"]\n",
    "\n",
    "# Marking 0 as group3+4 and 1 as wnt\n",
    "first_target = first_target.map(dict(group3=0, group4=0, shh=1, wnt=1))\n",
    "print(first_target.value_counts())"
   ]
  },
  {
   "cell_type": "code",
   "execution_count": 618,
   "metadata": {
    "ExecuteTime": {
     "end_time": "2023-05-02T08:01:22.969782523Z",
     "start_time": "2023-05-02T08:01:22.924906717Z"
    },
    "collapsed": false,
    "pycharm": {
     "name": "#%%\n"
    }
   },
   "outputs": [
    {
     "name": "stdout",
     "output_type": "stream",
     "text": [
      "TRAIN\n",
      "molecular\n",
      "0    123\n",
      "1     79\n",
      "Name: count, dtype: int64\n",
      "TEST\n",
      "molecular\n",
      "0    32\n",
      "1    28\n",
      "Name: count, dtype: int64\n"
     ]
    }
   ],
   "source": [
    "# Train/test split\n",
    "train_idx = df['split'] != 'test'\n",
    "test_idx = ~train_idx\n",
    "# X_train_1, X_test_1, y_train_1, y_test_1 = train_test_split(first_features, first_target, test_size = 0.25, random_state = 42)\n",
    "X_train_1 = first_features[train_idx]\n",
    "y_train_1 = first_target[train_idx]\n",
    "X_test_1 = first_features[test_idx]\n",
    "y_test_1 = first_target[test_idx]\n",
    "print(\"TRAIN\")\n",
    "print(y_train_1.value_counts())\n",
    "\n",
    "print(\"TEST\")\n",
    "print(y_test_1.value_counts())"
   ]
  },
  {
   "cell_type": "code",
   "execution_count": 619,
   "metadata": {
    "ExecuteTime": {
     "end_time": "2023-05-02T08:01:22.970040232Z",
     "start_time": "2023-05-02T08:01:22.925193175Z"
    },
    "collapsed": false,
    "pycharm": {
     "name": "#%%\n"
    }
   },
   "outputs": [],
   "source": [
    "# #NIR\n",
    "# NIR_G34 = 42/66\n",
    "# NIR_SHH = 14/66\n",
    "# NIR_WNT = 10/66\n",
    "#\n",
    "# print('%.4f' % NIR_G34)\n",
    "# print('%.4f' % NIR_SHH)\n",
    "# print('%.4f' % NIR_WNT)"
   ]
  },
  {
   "attachments": {},
   "cell_type": "markdown",
   "metadata": {
    "collapsed": false,
    "pycharm": {
     "name": "#%% md\n"
    }
   },
   "source": [
    "#### Resampling to Correct for Imbalance"
   ]
  },
  {
   "cell_type": "code",
   "execution_count": 620,
   "metadata": {
    "ExecuteTime": {
     "end_time": "2023-05-02T08:01:22.970276627Z",
     "start_time": "2023-05-02T08:01:22.925394420Z"
    },
    "collapsed": false,
    "pycharm": {
     "name": "#%%\n"
    }
   },
   "outputs": [],
   "source": [
    "first_X = pd.concat([X_train_1, y_train_1], axis = 1)\n",
    "first_X_0 = first_X[first_X['molecular'] == 0]\n",
    "first_X_1 = first_X[first_X['molecular'] == 1]"
   ]
  },
  {
   "cell_type": "code",
   "execution_count": 621,
   "metadata": {
    "ExecuteTime": {
     "end_time": "2023-05-02T08:01:23.016689622Z",
     "start_time": "2023-05-02T08:01:22.925674891Z"
    },
    "collapsed": false,
    "pycharm": {
     "name": "#%%\n"
    }
   },
   "outputs": [],
   "source": [
    "assert len(first_X_0) >= len(first_X_1)\n",
    "upsampled_1 = resample(first_X_1, replace = True, n_samples = len(first_X_0), random_state = 42)\n",
    "upsampled = pd.concat([upsampled_1, first_X_0])\n",
    "upsampled = upsampled.sample(frac = 1, random_state = 42)"
   ]
  },
  {
   "cell_type": "code",
   "execution_count": 622,
   "metadata": {
    "ExecuteTime": {
     "end_time": "2023-05-02T08:01:23.017039362Z",
     "start_time": "2023-05-02T08:01:22.968852662Z"
    },
    "collapsed": false,
    "pycharm": {
     "name": "#%%\n"
    }
   },
   "outputs": [
    {
     "name": "stdout",
     "output_type": "stream",
     "text": [
      "molecular\n",
      "1    123\n",
      "0    123\n",
      "Name: count, dtype: int64\n"
     ]
    }
   ],
   "source": [
    "X_train_1 = upsampled.iloc[:, :-1]\n",
    "y_train_1 = upsampled.iloc[:, -1]\n",
    "print(y_train_1.value_counts())"
   ]
  },
  {
   "attachments": {},
   "cell_type": "markdown",
   "metadata": {
    "collapsed": false,
    "pycharm": {
     "name": "#%% md\n"
    }
   },
   "source": [
    "#### Standardizing Features"
   ]
  },
  {
   "cell_type": "code",
   "execution_count": 623,
   "metadata": {
    "ExecuteTime": {
     "end_time": "2023-05-02T08:01:23.017218201Z",
     "start_time": "2023-05-02T08:01:22.969482129Z"
    },
    "collapsed": false,
    "pycharm": {
     "name": "#%%\n"
    }
   },
   "outputs": [],
   "source": [
    "first_names = X_train_1.columns\n",
    "first_scaler = preprocessing.StandardScaler()"
   ]
  },
  {
   "cell_type": "code",
   "execution_count": 624,
   "metadata": {
    "ExecuteTime": {
     "end_time": "2023-05-02T08:01:23.017387832Z",
     "start_time": "2023-05-02T08:01:22.969902886Z"
    },
    "collapsed": false,
    "pycharm": {
     "name": "#%%\n"
    }
   },
   "outputs": [],
   "source": [
    "X_train_1 = first_scaler.fit_transform(X_train_1)\n",
    "X_train_1 = pd.DataFrame(X_train_1, columns = first_names)"
   ]
  },
  {
   "cell_type": "code",
   "execution_count": 625,
   "metadata": {
    "ExecuteTime": {
     "end_time": "2023-05-02T08:01:23.017550848Z",
     "start_time": "2023-05-02T08:01:22.970154101Z"
    },
    "collapsed": false,
    "pycharm": {
     "name": "#%%\n"
    }
   },
   "outputs": [],
   "source": [
    "X_test_1 = first_scaler.transform(X_test_1)\n",
    "X_test_1 = pd.DataFrame(X_test_1, columns = first_names)"
   ]
  },
  {
   "attachments": {},
   "cell_type": "markdown",
   "metadata": {
    "collapsed": false,
    "pycharm": {
     "name": "#%% md\n"
    }
   },
   "source": []
  },
  {
   "attachments": {},
   "cell_type": "markdown",
   "metadata": {
    "collapsed": false,
    "pycharm": {
     "name": "#%% md\n"
    }
   },
   "source": [
    "#### Grid Search for Hyperparameters"
   ]
  },
  {
   "cell_type": "code",
   "execution_count": 626,
   "metadata": {
    "ExecuteTime": {
     "end_time": "2023-05-02T08:01:26.144328617Z",
     "start_time": "2023-05-02T08:01:22.970405549Z"
    },
    "collapsed": false,
    "pycharm": {
     "name": "#%%\n"
    }
   },
   "outputs": [
    {
     "name": "stdout",
     "output_type": "stream",
     "text": [
      "{'hidden_layer_sizes': (100, 50, 100), 'learning_rate': 'constant'}\n"
     ]
    }
   ],
   "source": [
    "nn_model_1_model = MLPClassifier(max_iter = 2000, random_state = 42)\n",
    "nn_grid_params_1 = {'hidden_layer_sizes': [(100, 100, 50), (50, 100, 50), (100, 50, 100)],\n",
    "              'learning_rate': ['constant', 'invscaling', 'adaptive']\n",
    "}\n",
    "\n",
    "nn_params_1 = grid_search(nn_model_1_model, nn_grid_params_1, X_train_1, y_train_1)\n",
    "print(nn_params_1)"
   ]
  },
  {
   "attachments": {},
   "cell_type": "markdown",
   "metadata": {
    "collapsed": false,
    "pycharm": {
     "name": "#%% md\n"
    }
   },
   "source": [
    "#### Model Performance"
   ]
  },
  {
   "cell_type": "code",
   "execution_count": 627,
   "metadata": {
    "ExecuteTime": {
     "end_time": "2023-05-02T08:01:26.436650695Z",
     "start_time": "2023-05-02T08:01:26.145263494Z"
    },
    "collapsed": false,
    "pycharm": {
     "name": "#%%\n"
    }
   },
   "outputs": [
    {
     "name": "stdout",
     "output_type": "stream",
     "text": [
      "(60, 48)\n",
      "[0 0 0 0 0 0 0 0 0 0 0 0 0 0 1 1 0 1 0 0 0 0 0 0 0 0 0 0 0 0 0 0 0 0 0 1 0\n",
      " 0 0 0 0 0 0 0 0 0 0 0 0 0 0 0 1 1 0 0 1 0 0 0]\n",
      "[1 0 0 1 1 1 0 1 0 1 0 1 1 0 1 0 1 0 0 0 0 0 0 1 1 1 0 1 1 0 1 1 0 0 1 1 1\n",
      " 0 0 1 1 0 0 0 0 1 0 0 0 0 0 0 1 1 0 1 1 0 0 1]\n"
     ]
    }
   ],
   "source": [
    "nn_seq_1_model = MLPClassifier(nn_params_1['hidden_layer_sizes'], max_iter=2000, random_state=42, learning_rate=nn_params_1['learning_rate'])\n",
    "nn_seq_1_model.fit(X_train_1, y_train_1)\n",
    "y_pred_1 = nn_seq_1_model.predict(X_test_1)\n",
    "print(X_test_1.shape)\n",
    "print(y_pred_1)\n",
    "print(y_test_1.to_numpy())"
   ]
  },
  {
   "cell_type": "code",
   "execution_count": 660,
   "metadata": {
    "ExecuteTime": {
     "end_time": "2023-05-02T08:01:26.438016628Z",
     "start_time": "2023-05-02T08:01:26.427368959Z"
    },
    "collapsed": false,
    "pycharm": {
     "name": "#%%\n"
    }
   },
   "outputs": [
    {
     "name": "stdout",
     "output_type": "stream",
     "text": [
      "Precision G34 0.5660377358490566\n",
      "Precision WS 0.7142857142857143\n",
      "Precision macro 0.6401617250673854\n",
      "Recall G34 0.9375\n",
      "Recall WS 0.17857142857142858\n",
      "Recall macro 0.5580357142857143\n",
      "F1 G34 0.7058823529411765\n",
      "F1 WS 0.2857142857142857\n",
      "F1 macro 0.4957983193277311\n",
      "Acc Score: 0.5833\n",
      "AUC: 0.6763\n"
     ]
    }
   ],
   "source": [
    "from sklearn.metrics import roc_auc_score\n",
    "print_metrics(y_test_1, y_pred_1)\n",
    "probs = nn_seq_1_model.predict_proba(X_test_1)[:,1]\n",
    "fpr, tpr, thresholds = roc_curve(y_test_1, probs)\n",
    "auc = roc_auc_score(y_test_1, probs)\n",
    "print(\"AUC: \" + str.format('{0:.4f}',auc))"
   ]
  },
  {
   "attachments": {},
   "cell_type": "markdown",
   "metadata": {
    "collapsed": false,
    "pycharm": {
     "name": "#%% md\n"
    }
   },
   "source": [
    "# NN2: SHH vs WNT (Second Sequential) [decomposed from rest1]"
   ]
  },
  {
   "attachments": {},
   "cell_type": "markdown",
   "metadata": {
    "collapsed": false,
    "pycharm": {
     "name": "#%% md\n"
    }
   },
   "source": [
    "### Data Preprocessing"
   ]
  },
  {
   "cell_type": "code",
   "execution_count": 629,
   "metadata": {
    "ExecuteTime": {
     "end_time": "2023-05-02T08:01:26.451008677Z",
     "start_time": "2023-05-02T08:01:26.437199843Z"
    },
    "collapsed": false,
    "pycharm": {
     "name": "#%%\n"
    }
   },
   "outputs": [
    {
     "name": "stdout",
     "output_type": "stream",
     "text": [
      "7\n"
     ]
    }
   ],
   "source": [
    "# obtain list of features selected from LASSO\n",
    "second_reduced_features_list = ['t1_log-sigma-3-mm-3D_glszm_GrayLevelNonUniformityNormalized', 't1_wavelet-LHL_glcm_Correlation', 't1_wavelet-LHL_glcm_Idn', 't2_wavelet-HHL_firstorder_InterquartileRange', 't2_wavelet-LLL_firstorder_Kurtosis', 't2_log-sigma-1-mm-3D_glszm_HighGrayLevelZoneEmphasis', 'age']\n",
    "print(len(second_reduced_features_list))"
   ]
  },
  {
   "cell_type": "code",
   "execution_count": 630,
   "metadata": {
    "ExecuteTime": {
     "end_time": "2023-05-02T08:01:26.579226065Z",
     "start_time": "2023-05-02T08:01:26.443081430Z"
    },
    "collapsed": false,
    "pycharm": {
     "name": "#%%\n"
    }
   },
   "outputs": [],
   "source": [
    "# second_features = df.drop(['molecular','molec_id', 'dx_date','alive','os','pfs','seg_id'], axis = 1)\n",
    "# second_features = second_features[second_reduced_features_list]\n",
    "second_df = df[df['molecular'].isin(['wnt', 'shh'])]\n",
    "second_features = second_df[second_reduced_features_list]"
   ]
  },
  {
   "cell_type": "code",
   "execution_count": 631,
   "metadata": {
    "ExecuteTime": {
     "end_time": "2023-05-02T08:01:26.595288297Z",
     "start_time": "2023-05-02T08:01:26.452072962Z"
    },
    "collapsed": false,
    "pycharm": {
     "name": "#%%\n"
    }
   },
   "outputs": [
    {
     "name": "stdout",
     "output_type": "stream",
     "text": [
      "molecular\n",
      "0    82\n",
      "1    25\n",
      "Name: count, dtype: int64\n"
     ]
    }
   ],
   "source": [
    "# Binarizing target\n",
    "second_target = second_df[\"molecular\"]\n",
    "\n",
    "# Marking 0 as shh and 1 as wnt\n",
    "second_target = second_target.map({\n",
    "    'shh': 0,\n",
    "    'wnt': 1,\n",
    "})\n",
    "print(second_target.value_counts())"
   ]
  },
  {
   "cell_type": "code",
   "execution_count": 632,
   "metadata": {
    "ExecuteTime": {
     "end_time": "2023-05-02T08:01:26.595776226Z",
     "start_time": "2023-05-02T08:01:26.492489002Z"
    },
    "collapsed": false,
    "pycharm": {
     "name": "#%%\n"
    }
   },
   "outputs": [],
   "source": [
    "# second_target = second_target.reset_index(drop = True)\n",
    "# second_features = second_features.reset_index(drop = True)"
   ]
  },
  {
   "cell_type": "code",
   "execution_count": 633,
   "metadata": {
    "ExecuteTime": {
     "end_time": "2023-05-02T08:01:26.596501658Z",
     "start_time": "2023-05-02T08:01:26.493264033Z"
    },
    "collapsed": false,
    "pycharm": {
     "name": "#%%\n"
    }
   },
   "outputs": [
    {
     "name": "stdout",
     "output_type": "stream",
     "text": [
      "TRAIN\n",
      "molecular\n",
      "0    64\n",
      "1    15\n",
      "Name: count, dtype: int64\n",
      "TEST\n",
      "molecular\n",
      "0    18\n",
      "1    10\n",
      "Name: count, dtype: int64\n"
     ]
    },
    {
     "name": "stderr",
     "output_type": "stream",
     "text": [
      "/tmp/ipykernel_2166935/2412312205.py:2: UserWarning: Boolean Series key will be reindexed to match DataFrame index.\n",
      "  X_train_2 = second_features[train_idx]\n",
      "/tmp/ipykernel_2166935/2412312205.py:3: UserWarning: Boolean Series key will be reindexed to match DataFrame index.\n",
      "  X_test_2 = second_features[test_idx]\n"
     ]
    }
   ],
   "source": [
    "# Train/test split\n",
    "X_train_2 = second_features[train_idx]\n",
    "X_test_2 = second_features[test_idx]\n",
    "y_train_2 = second_target[train_idx]\n",
    "y_test_2 = second_target[test_idx]\n",
    "# X_train_2, X_test_2, y_train_2, y_test_2 = train_test_split(second_features, second_target,\n",
    "#                                                     test_size = 0.25, random_state = 42)\n",
    "print(\"TRAIN\")\n",
    "print(y_train_2.value_counts())\n",
    "\n",
    "print(\"TEST\")\n",
    "print(y_test_2.value_counts())"
   ]
  },
  {
   "attachments": {},
   "cell_type": "markdown",
   "metadata": {
    "collapsed": false,
    "pycharm": {
     "name": "#%% md\n"
    }
   },
   "source": [
    "#### Resampling to Correct for Imbalance "
   ]
  },
  {
   "cell_type": "code",
   "execution_count": 634,
   "metadata": {
    "ExecuteTime": {
     "end_time": "2023-05-02T08:01:26.596782264Z",
     "start_time": "2023-05-02T08:01:26.493423930Z"
    },
    "collapsed": false,
    "pycharm": {
     "name": "#%%\n"
    }
   },
   "outputs": [],
   "source": [
    "second_X = pd.concat([X_train_2, y_train_2], axis = 1)\n",
    "second_X_0 = second_X[second_X['molecular'] == 0]\n",
    "second_X_1 = second_X[second_X['molecular'] == 1]"
   ]
  },
  {
   "cell_type": "code",
   "execution_count": 635,
   "metadata": {
    "ExecuteTime": {
     "end_time": "2023-05-02T08:01:26.597070362Z",
     "start_time": "2023-05-02T08:01:26.493529529Z"
    },
    "collapsed": false,
    "pycharm": {
     "name": "#%%\n"
    }
   },
   "outputs": [],
   "source": [
    "assert len(second_X_0) >= len(second_X_1)\n",
    "second_upsampled_1 = resample(second_X_1, replace = True, n_samples = len(second_X_0), random_state = 42)\n",
    "second_upsampled = pd.concat([second_upsampled_1, second_X_0])\n",
    "second_upsampled = second_upsampled.sample(frac = 1, random_state = 42)"
   ]
  },
  {
   "cell_type": "code",
   "execution_count": 636,
   "metadata": {
    "ExecuteTime": {
     "end_time": "2023-05-02T08:01:26.598806671Z",
     "start_time": "2023-05-02T08:01:26.493659913Z"
    },
    "collapsed": false,
    "pycharm": {
     "name": "#%%\n"
    }
   },
   "outputs": [
    {
     "name": "stdout",
     "output_type": "stream",
     "text": [
      "molecular\n",
      "1    64\n",
      "0    64\n",
      "Name: count, dtype: int64\n"
     ]
    }
   ],
   "source": [
    "X_train_2 = second_upsampled.iloc[:, :-1]\n",
    "y_train_2 = second_upsampled.iloc[:, -1]\n",
    "print(y_train_2.value_counts())"
   ]
  },
  {
   "attachments": {},
   "cell_type": "markdown",
   "metadata": {
    "collapsed": false,
    "pycharm": {
     "name": "#%% md\n"
    }
   },
   "source": [
    "#### Standardizing Features"
   ]
  },
  {
   "cell_type": "code",
   "execution_count": 637,
   "metadata": {
    "ExecuteTime": {
     "end_time": "2023-05-02T08:01:26.622485238Z",
     "start_time": "2023-05-02T08:01:26.536360730Z"
    },
    "collapsed": false,
    "pycharm": {
     "name": "#%%\n"
    }
   },
   "outputs": [],
   "source": [
    "second_names = X_train_2.columns\n",
    "second_scaler = preprocessing.StandardScaler()"
   ]
  },
  {
   "cell_type": "code",
   "execution_count": 638,
   "metadata": {
    "ExecuteTime": {
     "end_time": "2023-05-02T08:01:26.623064851Z",
     "start_time": "2023-05-02T08:01:26.536528503Z"
    },
    "collapsed": false,
    "pycharm": {
     "name": "#%%\n"
    }
   },
   "outputs": [],
   "source": [
    "X_train_2 = second_scaler.fit_transform(X_train_2)\n",
    "X_train_2 = pd.DataFrame(X_train_2, columns = second_names)"
   ]
  },
  {
   "cell_type": "code",
   "execution_count": 639,
   "metadata": {
    "ExecuteTime": {
     "end_time": "2023-05-02T08:01:26.623480504Z",
     "start_time": "2023-05-02T08:01:26.536619671Z"
    },
    "collapsed": false,
    "pycharm": {
     "name": "#%%\n"
    }
   },
   "outputs": [],
   "source": [
    "X_test_2 = second_scaler.transform(X_test_2)\n",
    "X_test_2 = pd.DataFrame(X_test_2, columns = second_names)"
   ]
  },
  {
   "attachments": {},
   "cell_type": "markdown",
   "metadata": {
    "collapsed": false,
    "pycharm": {
     "name": "#%% md\n"
    }
   },
   "source": [
    "### Modeling"
   ]
  },
  {
   "attachments": {},
   "cell_type": "markdown",
   "metadata": {
    "collapsed": false,
    "pycharm": {
     "name": "#%% md\n"
    }
   },
   "source": [
    "#### Model Performance"
   ]
  },
  {
   "cell_type": "code",
   "execution_count": 640,
   "metadata": {
    "ExecuteTime": {
     "end_time": "2023-05-02T08:01:28.128263443Z",
     "start_time": "2023-05-02T08:01:26.559787428Z"
    },
    "collapsed": false,
    "pycharm": {
     "name": "#%%\n"
    }
   },
   "outputs": [
    {
     "name": "stdout",
     "output_type": "stream",
     "text": [
      "{'hidden_layer_sizes': (100, 100, 50), 'learning_rate': 'constant'}\n"
     ]
    }
   ],
   "source": [
    "nn_model_2_model = MLPClassifier(max_iter=2000, random_state=42)\n",
    "nn_grid_params_2 = {'hidden_layer_sizes': [(100, 100, 50), (50, 100, 50), (100, 50, 100)],\n",
    "              'learning_rate': ['constant', 'invscaling', 'adaptive']\n",
    "}\n",
    "\n",
    "nn_params_2 = grid_search(nn_model_2_model, nn_grid_params_2, X_train_2, y_train_2)\n",
    "print(nn_params_2)"
   ]
  },
  {
   "cell_type": "code",
   "execution_count": 641,
   "metadata": {
    "ExecuteTime": {
     "end_time": "2023-05-02T08:01:28.328245723Z",
     "start_time": "2023-05-02T08:01:28.125576732Z"
    },
    "collapsed": false,
    "pycharm": {
     "name": "#%%\n"
    }
   },
   "outputs": [],
   "source": [
    "nn_seq_2_model = MLPClassifier(nn_params_2['hidden_layer_sizes'], max_iter=2000, random_state=42, learning_rate=nn_params_2['learning_rate'])\n",
    "nn_seq_2_model.fit(X_train_2, y_train_2)\n",
    "y_pred_2 = nn_seq_2_model.predict(X_test_2)"
   ]
  },
  {
   "cell_type": "code",
   "execution_count": 642,
   "metadata": {
    "ExecuteTime": {
     "end_time": "2023-05-02T08:01:28.528316429Z",
     "start_time": "2023-05-02T08:01:28.331858552Z"
    },
    "collapsed": false,
    "pycharm": {
     "name": "#%%\n"
    }
   },
   "outputs": [
    {
     "data": {
      "image/png": "[encoded data removed]",
      "text/plain": [
       "<Figure size 640x480 with 2 Axes>"
      ]
     },
     "metadata": {},
     "output_type": "display_data"
    }
   ],
   "source": [
    "create_intermed_confusion_matrix('Neural Network', nn_seq_2_model, X_test_2, y_test_2)"
   ]
  },
  {
   "attachments": {},
   "cell_type": "markdown",
   "metadata": {
    "collapsed": false,
    "pycharm": {
     "name": "#%% md\n"
    }
   },
   "source": [
    "## Testing"
   ]
  },
  {
   "cell_type": "code",
   "execution_count": 643,
   "metadata": {
    "ExecuteTime": {
     "end_time": "2023-05-02T08:01:28.537756220Z",
     "start_time": "2023-05-02T08:01:28.528596882Z"
    },
    "collapsed": false,
    "pycharm": {
     "name": "#%%\n"
    }
   },
   "outputs": [],
   "source": [
    "# Test features\n",
    "# test_features = df.drop(['molecular','molec_id', 'dx_date','alive','os','pfs','seg_id'], axis = 1)\n",
    "test_features = df.copy()\n",
    "test_target = df['molecular']\n",
    "# test_target = test_target.map(dict(group3 = 0, shh = 1, wnt = 2))\n",
    "test_target = test_target.map({\n",
    "    'group3': 0,\n",
    "    'group4': 0,\n",
    "    'shh': 1,\n",
    "    'wnt': 2,\n",
    "})"
   ]
  },
  {
   "cell_type": "code",
   "execution_count": 644,
   "metadata": {
    "ExecuteTime": {
     "end_time": "2023-05-02T08:01:28.628355594Z",
     "start_time": "2023-05-02T08:01:28.542479362Z"
    },
    "collapsed": false,
    "pycharm": {
     "name": "#%%\n"
    }
   },
   "outputs": [
    {
     "name": "stdout",
     "output_type": "stream",
     "text": [
      "TRAIN\n",
      "molecular\n",
      "0    123\n",
      "1     64\n",
      "2     15\n",
      "Name: count, dtype: int64\n",
      "TEST\n",
      "molecular\n",
      "0    32\n",
      "1    18\n",
      "2    10\n",
      "Name: count, dtype: int64\n"
     ]
    }
   ],
   "source": [
    "# Train/test split\n",
    "# X_train, X_test, y_train, y_test = train_test_split(test_features, test_target,\n",
    "#                                                     test_size = 0.25, random_state = 42)\n",
    "X_train = test_features[train_idx]\n",
    "X_test = test_features[test_idx]\n",
    "y_train = test_target[train_idx]\n",
    "y_test = test_target[test_idx]\n",
    "print(\"TRAIN\")\n",
    "print(y_train.value_counts())\n",
    "\n",
    "print(\"TEST\")\n",
    "print(y_test.value_counts())"
   ]
  },
  {
   "cell_type": "code",
   "execution_count": 645,
   "metadata": {
    "ExecuteTime": {
     "end_time": "2023-05-02T08:01:28.628618014Z",
     "start_time": "2023-05-02T08:01:28.588371707Z"
    },
    "collapsed": false,
    "pycharm": {
     "name": "#%%\n"
    }
   },
   "outputs": [],
   "source": [
    "# Data Preparation\n",
    "# X_test = X_test.reset_index(drop = True)\n",
    "# y_test = y_test.reset_index(drop = True)\n",
    "# sex_binarized = X_test['sex'].map(dict(M = 1, F = 0)).to_numpy()\n",
    "# X_test['sex'] = sex_binarized\n",
    "X_test_reduced = X_test[reduced_features_list]"
   ]
  },
  {
   "attachments": {},
   "cell_type": "markdown",
   "metadata": {
    "collapsed": false,
    "pycharm": {
     "name": "#%% md\n"
    }
   },
   "source": [
    "### Standardization for NN1"
   ]
  },
  {
   "cell_type": "code",
   "execution_count": 646,
   "metadata": {
    "ExecuteTime": {
     "end_time": "2023-05-02T08:01:28.628808657Z",
     "start_time": "2023-05-02T08:01:28.588479400Z"
    },
    "collapsed": false,
    "pycharm": {
     "name": "#%%\n"
    }
   },
   "outputs": [],
   "source": [
    "names = X_test_reduced.columns\n",
    "X_test_for_first = first_scaler.transform(X_test_reduced)\n",
    "X_test_for_first = pd.DataFrame(X_test_for_first, columns = names)"
   ]
  },
  {
   "attachments": {},
   "cell_type": "markdown",
   "metadata": {
    "collapsed": false,
    "pycharm": {
     "name": "#%% md\n"
    }
   },
   "source": [
    "### Modeling"
   ]
  },
  {
   "cell_type": "code",
   "execution_count": 647,
   "metadata": {
    "ExecuteTime": {
     "end_time": "2023-05-02T08:01:28.635570639Z",
     "start_time": "2023-05-02T08:01:28.588551811Z"
    },
    "collapsed": false,
    "pycharm": {
     "name": "#%%\n"
    }
   },
   "outputs": [
    {
     "name": "stdout",
     "output_type": "stream",
     "text": [
      "[0 0 0 0 0 0 0 0 0 0 0 0 0 0 1 1 0 1 0 0 0 0 0 0 0 0 0 0 0 0 0 0 0 0 0 1 0\n",
      " 0 0 0 0 0 0 0 0 0 0 0 0 0 0 0 1 1 0 0 1 0 0 0]\n"
     ]
    }
   ],
   "source": [
    "y_preds_after_first = nn_seq_1_model.predict(X_test_for_first)\n",
    "print(y_preds_after_first)"
   ]
  },
  {
   "cell_type": "code",
   "execution_count": 648,
   "metadata": {
    "ExecuteTime": {
     "end_time": "2023-05-02T08:01:28.635787879Z",
     "start_time": "2023-05-02T08:01:28.632483410Z"
    },
    "collapsed": false,
    "pycharm": {
     "name": "#%%\n"
    }
   },
   "outputs": [],
   "source": [
    "#keeps all that are group3+4, indifferent to shh/wnt label\n",
    "group3_indices = np.where(y_preds_after_first == 0)\n",
    "other_indices = np.where(y_preds_after_first != 0)\n",
    "\n",
    "group3_preds = y_preds_after_first[group3_indices]\n",
    "y_test_for_group3 = np.array(y_test)[group3_indices]\n",
    "\n",
    "X_test_after_first_model = X_test.iloc[other_indices].reset_index(drop = True)\n",
    "y_test_after_first_model = y_test.iloc[other_indices].reset_index(drop = True)\n",
    "\n",
    "X_test_after_first_model = X_test_after_first_model[second_reduced_features_list]"
   ]
  },
  {
   "attachments": {},
   "cell_type": "markdown",
   "metadata": {
    "collapsed": false,
    "pycharm": {
     "name": "#%% md\n"
    }
   },
   "source": [
    "### Standardization for NN2"
   ]
  },
  {
   "cell_type": "code",
   "execution_count": 649,
   "metadata": {
    "ExecuteTime": {
     "end_time": "2023-05-02T08:01:28.636000613Z",
     "start_time": "2023-05-02T08:01:28.632729584Z"
    },
    "collapsed": false,
    "pycharm": {
     "name": "#%%\n"
    }
   },
   "outputs": [],
   "source": [
    "X_test_after_first_model = second_scaler.transform(X_test_after_first_model)"
   ]
  },
  {
   "cell_type": "code",
   "execution_count": 650,
   "metadata": {
    "ExecuteTime": {
     "end_time": "2023-05-02T08:01:28.636165874Z",
     "start_time": "2023-05-02T08:01:28.632936546Z"
    },
    "collapsed": false,
    "pycharm": {
     "name": "#%%\n"
    }
   },
   "outputs": [],
   "source": [
    "#relabel original test-dictionary\n",
    "#allows us to dro group3 from 2nd stage\n",
    "#allows accuracy_score of binary outputs: shh now 0, wnt now 1\n",
    "y_test_after_first_model = np.array(y_test_after_first_model)\n",
    "y_test_after_first_model[y_test_after_first_model == 0] = -1\n",
    "y_test_after_first_model[y_test_after_first_model == 1] = 0\n",
    "y_test_after_first_model[y_test_after_first_model == 2] = 1"
   ]
  },
  {
   "cell_type": "code",
   "execution_count": 651,
   "metadata": {
    "ExecuteTime": {
     "end_time": "2023-05-02T08:01:28.746433081Z",
     "start_time": "2023-05-02T08:01:28.634509527Z"
    },
    "collapsed": false,
    "pycharm": {
     "name": "#%%\n"
    }
   },
   "outputs": [
    {
     "name": "stdout",
     "output_type": "stream",
     "text": [
      "[0 1 1 0 0 1 1]\n",
      "0.5714285714285714\n"
     ]
    },
    {
     "name": "stderr",
     "output_type": "stream",
     "text": [
      "/home-new/function2/miniconda3/envs/mb/lib/python3.10/site-packages/sklearn/base.py:439: UserWarning: X does not have valid feature names, but MLPClassifier was fitted with feature names\n",
      "  warnings.warn(\n"
     ]
    }
   ],
   "source": [
    "y_preds_after_second = nn_seq_2_model.predict(X_test_after_first_model)\n",
    "print(y_preds_after_second)\n",
    "print(accuracy_score(y_test_after_first_model, y_preds_after_second))"
   ]
  },
  {
   "attachments": {},
   "cell_type": "markdown",
   "metadata": {
    "collapsed": false,
    "pycharm": {
     "name": "#%% md\n"
    }
   },
   "source": [
    "### Post-processing"
   ]
  },
  {
   "cell_type": "code",
   "execution_count": 652,
   "metadata": {
    "ExecuteTime": {
     "end_time": "2023-05-02T08:01:28.746709704Z",
     "start_time": "2023-05-02T08:01:28.676621883Z"
    },
    "collapsed": false,
    "pycharm": {
     "name": "#%%\n"
    }
   },
   "outputs": [],
   "source": [
    "#relabel prediction outputs to match 3-way; wnt to 2, shh to 1\n",
    "#group3 is 0 already from \"group3_preds\" and \"y_test_for_group3\" derived from \"group3_indices\"\n",
    "y_preds_after_second[y_preds_after_second == 1] = 2\n",
    "y_preds_after_second[y_preds_after_second == 0] = 1"
   ]
  },
  {
   "cell_type": "code",
   "execution_count": 653,
   "metadata": {
    "ExecuteTime": {
     "end_time": "2023-05-02T08:01:28.746884237Z",
     "start_time": "2023-05-02T08:01:28.676841011Z"
    },
    "collapsed": false,
    "pycharm": {
     "name": "#%%\n"
    }
   },
   "outputs": [],
   "source": [
    "#revert test-labels to 3-way; wnt back to 2, shh back to 1, group3 back to 0\n",
    "y_test_after_first_model[y_test_after_first_model == 1] = 2\n",
    "y_test_after_first_model[y_test_after_first_model == 0] = 1\n",
    "y_test_after_first_model[y_test_after_first_model == -1] = 0"
   ]
  },
  {
   "cell_type": "code",
   "execution_count": 654,
   "metadata": {
    "ExecuteTime": {
     "end_time": "2023-05-02T08:01:28.747030439Z",
     "start_time": "2023-05-02T08:01:28.677040750Z"
    },
    "collapsed": false,
    "pycharm": {
     "name": "#%%\n"
    }
   },
   "outputs": [],
   "source": [
    "y_preds_overall = np.concatenate([y_preds_after_second, group3_preds])\n",
    "y_test_overall = np.concatenate([y_test_after_first_model, y_test_for_group3])"
   ]
  },
  {
   "attachments": {},
   "cell_type": "markdown",
   "metadata": {
    "collapsed": false,
    "pycharm": {
     "name": "#%% md\n"
    }
   },
   "source": [
    "## Results "
   ]
  },
  {
   "cell_type": "code",
   "execution_count": 655,
   "metadata": {
    "ExecuteTime": {
     "end_time": "2023-05-02T08:01:28.747267548Z",
     "start_time": "2023-05-02T08:01:28.677192313Z"
    },
    "collapsed": false,
    "pycharm": {
     "name": "#%%\n"
    }
   },
   "outputs": [
    {
     "name": "stdout",
     "output_type": "stream",
     "text": [
      "[1 0 0 1 1 1 2 1 0 0 1 1 1 0 2 0 1 0 1 2 0 1 0 0 0 0 0 1 2 1 0 1 2 0 1 1 0\n",
      " 0 2 2 0 0 2 2 0 0 0 0 1 0 0 0 0 0 0 0 1 0 0 2]\n",
      "[1 2 2 1 1 2 2 0 0 0 0 0 0 0 0 0 0 0 0 0 0 0 0 0 0 0 0 0 0 0 0 0 0 0 0 0 0\n",
      " 0 0 0 0 0 0 0 0 0 0 0 0 0 0 0 0 0 0 0 0 0 0 0]\n",
      "34\n",
      "60\n",
      "Acc: 0.5666666666666667\n"
     ]
    }
   ],
   "source": [
    "print(y_test_overall)\n",
    "print(y_preds_overall)\n",
    "print((y_test_overall == y_preds_overall).sum())\n",
    "print(y_test_overall.shape[0])\n",
    "print(\"Acc: \" + str(accuracy_score(y_test_overall, y_preds_overall)))"
   ]
  },
  {
   "cell_type": "code",
   "execution_count": 656,
   "metadata": {
    "ExecuteTime": {
     "end_time": "2023-05-02T08:01:28.975949989Z",
     "start_time": "2023-05-02T08:01:28.677403976Z"
    },
    "collapsed": false,
    "pycharm": {
     "name": "#%%\n"
    }
   },
   "outputs": [
    {
     "data": {
      "image/png": "[encoded data removed]",
      "text/plain": [
       "<Figure size 640x480 with 2 Axes>"
      ]
     },
     "metadata": {},
     "output_type": "display_data"
    }
   ],
   "source": [
    "matrix = create_confusion_matrix(y_test_overall, y_preds_overall, cmap=plt.cm.Blues)\n",
    "plt.title('NN1 + NN2 Confusion Matrix')\n",
    "plt.show(matrix)\n",
    "plt.show()"
   ]
  },
  {
   "cell_type": "code",
   "execution_count": 657,
   "metadata": {
    "ExecuteTime": {
     "end_time": "2023-05-02T08:01:29.143327477Z",
     "start_time": "2023-05-02T08:01:28.920386428Z"
    },
    "collapsed": false,
    "pycharm": {
     "name": "#%%\n"
    }
   },
   "outputs": [
    {
     "data": {
      "image/png": "[encoded data removed]",
      "text/plain": [
       "<Figure size 640x480 with 2 Axes>"
      ]
     },
     "metadata": {},
     "output_type": "display_data"
    }
   ],
   "source": [
    "matrix = create_confusion_matrix(y_test_overall, y_preds_overall, cmap=plt.cm.Blues, normalize = 'true')\n",
    "plt.title('Normalized NN1 + NN2 Confusion Matrix')\n",
    "plt.show(matrix)\n",
    "plt.show()"
   ]
  },
  {
   "cell_type": "code",
   "execution_count": 658,
   "metadata": {
    "ExecuteTime": {
     "end_time": "2023-05-02T08:01:29.143912306Z",
     "start_time": "2023-05-02T08:01:29.096464895Z"
    },
    "collapsed": false,
    "pycharm": {
     "name": "#%%\n"
    }
   },
   "outputs": [
    {
     "name": "stdout",
     "output_type": "stream",
     "text": [
      "Precision\n",
      "G34 0.5660377144813538\n",
      "SHH 1.0\n",
      "WNT 0.25\n",
      "Macro Avg: 0.6053459048271179\n",
      "Recall\n",
      "G34 0.9375\n",
      "SHH 0.1666666716337204\n",
      "WNT 0.10000000149011612\n",
      "Macro Avg: 0.40138888359069824\n",
      "F1\n",
      "G34 0.7058823704719543\n",
      "SHH 0.2857142984867096\n",
      "WNT 0.1428571492433548\n",
      "Macro Avg: 0.3781512975692749\n",
      "multiclass acc: tensor(0.5667)\n"
     ]
    }
   ],
   "source": [
    "# 3-way scores\n",
    "y_test_np = y_test.to_numpy()\n",
    "my_classification_report(y_test_overall, y_preds_overall)\n",
    "\n",
    "y_test_bin = label_binarize(y_test_overall, classes = [0, 1, 2])\n",
    "y_pred_bin = label_binarize(y_preds_overall, classes = [0, 1, 2])"
   ]
  },
  {
   "attachments": {},
   "cell_type": "markdown",
   "metadata": {
    "collapsed": false,
    "pycharm": {
     "name": "#%% md\n"
    }
   },
   "source": [
    "### Confidence Intervals"
   ]
  },
  {
   "cell_type": "code",
   "execution_count": 659,
   "metadata": {
    "ExecuteTime": {
     "end_time": "2023-05-02T08:01:29.523779334Z",
     "start_time": "2023-05-02T08:01:29.096717503Z"
    },
    "collapsed": false,
    "pycharm": {
     "name": "#%%\n"
    }
   },
   "outputs": [
    {
     "name": "stderr",
     "output_type": "stream",
     "text": [
      "/home-new/function2/miniconda3/envs/mb/lib/python3.10/site-packages/sklearn/metrics/_classification.py:1344: UndefinedMetricWarning: Precision is ill-defined and being set to 0.0 due to no predicted samples. Use `zero_division` parameter to control this behavior.\n",
      "  _warn_prf(average, modifier, msg_start, len(result))\n"
     ]
    },
    {
     "ename": "ZeroDivisionError",
     "evalue": "division by zero",
     "output_type": "error",
     "traceback": [
      "\u001b[0;31m---------------------------------------------------------------------------\u001b[0m",
      "\u001b[0;31mZeroDivisionError\u001b[0m                         Traceback (most recent call last)",
      "Cell \u001b[0;32mIn[659], line 36\u001b[0m\n\u001b[1;32m     34\u001b[0m     one_rec\u001b[39m.\u001b[39mappend(recall_score(y_test_bin[:, i][indices], y_pred_bin[:, i][indices]))\n\u001b[1;32m     35\u001b[0m     one_f_one\u001b[39m.\u001b[39mappend(f1_score(y_test_bin[:, i][indices], y_pred_bin[:, i][indices]))\n\u001b[0;32m---> 36\u001b[0m     one_ppv\u001b[39m.\u001b[39mappend(positive_pv_score(y_test_bin[:, i][indices], y_pred_bin[:, i][indices])) \u001b[39m##\u001b[39;00m\n\u001b[1;32m     37\u001b[0m     one_npv\u001b[39m.\u001b[39mappend(negative_pv_score(y_test_bin[:, i][indices], y_pred_bin[:, i][indices])) \u001b[39m##\u001b[39;00m\n\u001b[1;32m     39\u001b[0m bootstrapped_acc_scores\u001b[39m.\u001b[39mappend(one_acc)\n",
      "Cell \u001b[0;32mIn[606], line 10\u001b[0m, in \u001b[0;36mpositive_pv_score\u001b[0;34m(y_true, y_pred)\u001b[0m\n\u001b[1;32m      7\u001b[0m     \u001b[39melif\u001b[39;00m y_true[i] \u001b[39m==\u001b[39m \u001b[39m0\u001b[39m \u001b[39mand\u001b[39;00m y_pred[i] \u001b[39m==\u001b[39m \u001b[39m1\u001b[39m:\n\u001b[1;32m      8\u001b[0m         FP \u001b[39m+\u001b[39m\u001b[39m=\u001b[39m \u001b[39m1\u001b[39m\n\u001b[0;32m---> 10\u001b[0m \u001b[39mreturn\u001b[39;00m TP\u001b[39m/\u001b[39;49m(TP\u001b[39m+\u001b[39;49mFP)\n",
      "\u001b[0;31mZeroDivisionError\u001b[0m: division by zero"
     ]
    }
   ],
   "source": [
    "n_classes = 3\n",
    "\n",
    "n_bootstraps = 2000\n",
    "rng_seed = 42  # control reproducibility\n",
    "bootstrapped_auc_scores = []\n",
    "bootstrapped_acc_scores = []\n",
    "bootstrapped_spec_scores = []\n",
    "bootstrapped_prec_scores = []\n",
    "bootstrapped_rec_scores = []\n",
    "bootstrapped_f_one_scores = []\n",
    "bootstrapped_ppv_scores = [] ##\n",
    "bootstrapped_npv_scores = [] ##\n",
    "\n",
    "rng = np.random.RandomState(rng_seed)\n",
    "for i in range(n_bootstraps):\n",
    "    # bootstrap by sampling with replacement on the prediction indices\n",
    "    indices = rng.randint(0, len(y_test_overall), len(y_test_overall))\n",
    "    if len(np.unique(y_test_overall[indices])) < 2:\n",
    "        # We need at least one positive and one negative sample for ROC AUC\n",
    "        # to be defined: reject the sample\n",
    "        continue\n",
    "    \n",
    "    one_acc = []\n",
    "    one_spec = []\n",
    "    one_prec = []\n",
    "    one_rec = []\n",
    "    one_f_one = []\n",
    "    one_ppv = [] ##\n",
    "    one_npv = [] ##\n",
    "    for i in range(n_classes):\n",
    "        one_acc.append(accuracy_score(y_test_bin[:, i][indices], y_pred_bin[:, i][indices]))\n",
    "        one_spec.append(specificity_score(y_test_bin[:, i][indices], y_pred_bin[:, i][indices]))\n",
    "        one_prec.append(precision_score(y_test_bin[:, i][indices], y_pred_bin[:, i][indices]))\n",
    "        one_rec.append(recall_score(y_test_bin[:, i][indices], y_pred_bin[:, i][indices]))\n",
    "        one_f_one.append(f1_score(y_test_bin[:, i][indices], y_pred_bin[:, i][indices]))\n",
    "        one_ppv.append(positive_pv_score(y_test_bin[:, i][indices], y_pred_bin[:, i][indices])) ##\n",
    "        one_npv.append(negative_pv_score(y_test_bin[:, i][indices], y_pred_bin[:, i][indices])) ##\n",
    "\n",
    "    bootstrapped_acc_scores.append(one_acc)\n",
    "    bootstrapped_spec_scores.append(one_spec)\n",
    "    bootstrapped_prec_scores.append(one_prec)\n",
    "    bootstrapped_rec_scores.append(one_rec)\n",
    "    bootstrapped_f_one_scores.append(one_f_one)\n",
    "    bootstrapped_ppv_scores.append(one_ppv) ##\n",
    "    bootstrapped_npv_scores.append(one_npv) ##"
   ]
  },
  {
   "cell_type": "code",
   "execution_count": null,
   "metadata": {
    "ExecuteTime": {
     "start_time": "2023-05-02T08:01:29.469903605Z"
    },
    "collapsed": false,
    "pycharm": {
     "name": "#%%\n"
    }
   },
   "outputs": [],
   "source": [
    "create_ci(bootstrapped_acc_scores, \"Accuracy\")\n",
    "create_ci(bootstrapped_spec_scores, \"Specificity\")\n",
    "create_ci(bootstrapped_prec_scores, \"Precision\")\n",
    "create_ci(bootstrapped_rec_scores, \"Recall\")\n",
    "create_ci(bootstrapped_f_one_scores, \"F1\")\n",
    "create_ci(bootstrapped_ppv_scores, \"PPV\") ##\n",
    "create_ci(bootstrapped_npv_scores, \"NPV\") ##"
   ]
  },
  {
   "attachments": {},
   "cell_type": "markdown",
   "metadata": {
    "collapsed": false,
    "pycharm": {
     "name": "#%% md\n"
    }
   },
   "source": [
    "## Individual Classification Results"
   ]
  },
  {
   "cell_type": "code",
   "execution_count": null,
   "metadata": {
    "ExecuteTime": {
     "start_time": "2023-05-02T08:01:29.512932478Z"
    },
    "collapsed": false,
    "pycharm": {
     "name": "#%%\n"
    }
   },
   "outputs": [],
   "source": [
    "metadata_df = df['molecular']\n",
    "target_for_table = df['molecular']"
   ]
  },
  {
   "cell_type": "code",
   "execution_count": null,
   "metadata": {
    "ExecuteTime": {
     "start_time": "2023-05-02T08:01:29.513431770Z"
    },
    "collapsed": false,
    "pycharm": {
     "name": "#%%\n"
    }
   },
   "outputs": [],
   "source": [
    "# features_for_table = df.drop(['molecular','molec_id', 'dx_date','alive','os','pfs','seg_id'], axis = 1)\n",
    "features_for_table = df.drop(columns='molecular')\n",
    "# target_for_table = target_for_table.map(dict(group3=0, shh = 1, wnt = 2))\n",
    "target_for_table = target_for_table.map({\n",
    "    'group3': 0,\n",
    "    'group4': 0,\n",
    "    'shh': 1,\n",
    "    'wnt': 2,\n",
    "})"
   ]
  },
  {
   "cell_type": "code",
   "execution_count": null,
   "metadata": {
    "ExecuteTime": {
     "start_time": "2023-05-02T08:01:29.513869445Z"
    },
    "collapsed": false,
    "pycharm": {
     "name": "#%%\n"
    }
   },
   "outputs": [],
   "source": [
    "#only used for metadata for which is train and which is test\n",
    "# X_train_for_table, X_test_for_table, _, _ = train_test_split(features_for_table, target_for_table,\n",
    "#                                                     test_size = 0.25, random_state = 42)\n",
    "X_train_for_table = features_for_table[train_idx]\n",
    "X_test_for_table = features_for_table[test_idx]"
   ]
  },
  {
   "cell_type": "code",
   "execution_count": null,
   "metadata": {
    "ExecuteTime": {
     "start_time": "2023-05-02T08:01:29.514269638Z"
    },
    "collapsed": false,
    "pycharm": {
     "name": "#%%\n"
    }
   },
   "outputs": [],
   "source": [
    "X_train_for_table['Set'] = 'training'\n",
    "X_test_for_table['Set'] = 'test'"
   ]
  },
  {
   "cell_type": "code",
   "execution_count": null,
   "metadata": {
    "ExecuteTime": {
     "start_time": "2023-05-02T08:01:29.514669119Z"
    },
    "collapsed": false,
    "pycharm": {
     "name": "#%%\n"
    }
   },
   "outputs": [],
   "source": [
    "X_for_table = pd.concat([X_train_for_table, X_test_for_table])\n",
    "X_for_table = pd.merge(metadata_df, X_for_table, left_index = True, right_index = True)"
   ]
  },
  {
   "cell_type": "code",
   "execution_count": null,
   "metadata": {
    "ExecuteTime": {
     "start_time": "2023-05-02T08:01:29.515052387Z"
    },
    "collapsed": false,
    "pycharm": {
     "name": "#%%\n"
    }
   },
   "outputs": [],
   "source": [
    "final_df = X_for_table[['molecular', 'Set']]\n",
    "# features_for_table = df.drop(['molecular','molec_id', 'dx_date','alive','os','pfs','seg_id'], axis = 1)\n",
    "features_for_table = df.drop(columns='molecular')\n",
    "target_for_table = X_for_table['molecular']\n",
    "target_for_table = target_for_table.map(dict(group3 = 0, shh = 1, wnt = 2))"
   ]
  },
  {
   "cell_type": "code",
   "execution_count": null,
   "metadata": {
    "ExecuteTime": {
     "start_time": "2023-05-02T08:01:29.515612596Z"
    },
    "collapsed": false,
    "pycharm": {
     "name": "#%%\n"
    }
   },
   "outputs": [],
   "source": [
    "X_table_reduced = features_for_table[reduced_features_list]"
   ]
  },
  {
   "cell_type": "code",
   "execution_count": null,
   "metadata": {
    "ExecuteTime": {
     "start_time": "2023-05-02T08:01:29.516040414Z"
    },
    "collapsed": false,
    "pycharm": {
     "name": "#%%\n"
    }
   },
   "outputs": [],
   "source": [
    "# sex_binarized = X_table_reduced['sex'].map(dict(M = 1, F = 0)).to_numpy()\n",
    "#\n",
    "# X_table_reduced['sex'] = sex_binarized"
   ]
  },
  {
   "cell_type": "code",
   "execution_count": null,
   "metadata": {
    "ExecuteTime": {
     "start_time": "2023-05-02T08:01:29.516499669Z"
    },
    "collapsed": false,
    "pycharm": {
     "name": "#%%\n"
    }
   },
   "outputs": [],
   "source": [
    "names = X_table_reduced.columns\n",
    "X_table_for_first = first_scaler.transform(X_table_reduced)\n",
    "X_table_for_first = pd.DataFrame(X_table_for_first, columns = names)"
   ]
  },
  {
   "cell_type": "code",
   "execution_count": null,
   "metadata": {
    "collapsed": false,
    "pycharm": {
     "name": "#%%\n"
    }
   },
   "outputs": [],
   "source": [
    "y_probs_after_first_table = nn_seq_1_model.predict_proba(X_table_for_first)"
   ]
  },
  {
   "cell_type": "code",
   "execution_count": null,
   "metadata": {
    "collapsed": false,
    "pycharm": {
     "name": "#%%\n"
    }
   },
   "outputs": [],
   "source": [
    "rf_1_table = pd.DataFrame(y_probs_after_first_table, columns = ['NN1 Group3 Prob','NN1 Non-Group3 Prob'])"
   ]
  },
  {
   "cell_type": "code",
   "execution_count": null,
   "metadata": {
    "collapsed": false,
    "pycharm": {
     "name": "#%%\n"
    }
   },
   "outputs": [],
   "source": [
    "final_df['NN1 Group3 Prob'] = rf_1_table['NN1 Group3 Prob']\n",
    "final_df['NN1 Non-Group3 Prob'] = rf_1_table['NN1 Non-Group3 Prob']"
   ]
  },
  {
   "cell_type": "code",
   "execution_count": null,
   "metadata": {
    "collapsed": false,
    "pycharm": {
     "name": "#%%\n"
    }
   },
   "outputs": [],
   "source": [
    "y_preds_after_first_table = nn_seq_1_model.predict(X_table_for_first)\n",
    "wnt_table_indices = np.where(y_preds_after_first_table == 0)\n",
    "other_table_indices = np.where(y_preds_after_first_table != 0)"
   ]
  },
  {
   "cell_type": "code",
   "execution_count": null,
   "metadata": {
    "collapsed": false,
    "pycharm": {
     "name": "#%%\n"
    }
   },
   "outputs": [],
   "source": [
    "y_table_for_wnt = np.array(y_preds_after_first_table)[wnt_table_indices]\n",
    "X_table_after_first_model = features_for_table.iloc[other_table_indices]\n",
    "X_table_after_first_model = X_table_after_first_model[second_reduced_features_list]\n",
    "X_table_after_first_model_arr = second_scaler.transform(X_table_after_first_model)"
   ]
  },
  {
   "cell_type": "code",
   "execution_count": null,
   "metadata": {
    "collapsed": false,
    "pycharm": {
     "name": "#%%\n"
    }
   },
   "outputs": [],
   "source": [
    "y_probs_after_second_table = nn_seq_2_model.predict_proba(X_table_after_first_model_arr)\n",
    "y_preds_after_second_table = nn_seq_2_model.predict(X_table_after_first_model_arr)"
   ]
  },
  {
   "cell_type": "code",
   "execution_count": null,
   "metadata": {
    "collapsed": false,
    "pycharm": {
     "name": "#%%\n"
    }
   },
   "outputs": [],
   "source": [
    "nn_2_table = pd.DataFrame(y_probs_after_second_table, columns = ['NN2 SHH Prob','NN2 WNT Prob'])"
   ]
  },
  {
   "cell_type": "code",
   "execution_count": null,
   "metadata": {
    "collapsed": false,
    "pycharm": {
     "name": "#%%\n"
    }
   },
   "outputs": [],
   "source": [
    "X_table_after_first_model['NN2 SHH Prob'] = np.array(nn_2_table['NN2 SHH Prob'])\n",
    "X_table_after_first_model['NN2 WNT Prob'] = np.array(nn_2_table['NN2 WNT Prob'])"
   ]
  },
  {
   "cell_type": "code",
   "execution_count": null,
   "metadata": {
    "collapsed": false,
    "pycharm": {
     "name": "#%%\n"
    }
   },
   "outputs": [],
   "source": [
    "X_table_after_first_model = X_table_after_first_model[['NN2 SHH Prob', 'NN2 WNT Prob']]"
   ]
  },
  {
   "cell_type": "code",
   "execution_count": null,
   "metadata": {
    "collapsed": false,
    "pycharm": {
     "name": "#%%\n"
    }
   },
   "outputs": [],
   "source": [
    "final_df = final_df.merge(X_table_after_first_model, how='left', left_index=True, right_index=True)"
   ]
  },
  {
   "cell_type": "code",
   "execution_count": null,
   "metadata": {
    "collapsed": false,
    "pycharm": {
     "name": "#%%\n"
    }
   },
   "outputs": [],
   "source": [
    "def f(row):\n",
    "    if row['NN1 Non-Group3 Prob'] < row['NN1 Group3 Prob']:\n",
    "        val = 'group3'\n",
    "    else:\n",
    "        if row['NN2 SHH Prob'] > row['NN2 WNT Prob']:\n",
    "            val = 'shh'\n",
    "        else:\n",
    "            val = 'wnt'\n",
    "    return val"
   ]
  },
  {
   "cell_type": "code",
   "execution_count": null,
   "metadata": {
    "collapsed": false,
    "pycharm": {
     "name": "#%%\n"
    }
   },
   "outputs": [],
   "source": [
    "# final_df['molec_id'] = df['molec_id']"
   ]
  },
  {
   "cell_type": "code",
   "execution_count": null,
   "metadata": {
    "collapsed": false,
    "pycharm": {
     "name": "#%%\n"
    }
   },
   "outputs": [],
   "source": [
    "final_df['Pred Path'] = final_df.apply(f, axis = 1)"
   ]
  },
  {
   "cell_type": "code",
   "execution_count": null,
   "metadata": {
    "collapsed": false,
    "pycharm": {
     "name": "#%%\n"
    }
   },
   "outputs": [],
   "source": [
    "# Formatting\n",
    "# final_df.columns = ['True Molec', 'Set', 'NN1 Non-Group3 Prob', 'NN1 Group3 Prob', 'NN2 SHH Prob', 'NN2 WNT Prob', 'Molec Id', 'Pred Molec']\n",
    "final_df.columns = ['True Molec', 'Set', 'NN1 Non-Group3 Prob', 'NN1 Group3 Prob', 'NN2 SHH Prob', 'NN2 WNT Prob', 'Pred Molec']\n",
    "cols = final_df.columns.tolist()\n",
    "cols = ['NN1 Non-Group3 Prob', 'NN1 Group3 Prob', 'NN2 SHH Prob', 'NN2 WNT Prob',\n",
    "        'Pred Molec', 'True Molec', 'Set']\n",
    "final_df = final_df[cols]\n",
    "final_df = final_df.round(4)"
   ]
  },
  {
   "cell_type": "code",
   "execution_count": null,
   "metadata": {
    "pycharm": {
     "name": "#%%\n"
    }
   },
   "outputs": [],
   "source": [
    "# Formatting\n",
    "# final_df.columns = ['True Molec', 'Set', 'NN1 Non-Group3 Prob', 'NN1 Group3 Prob', 'NN2 SHH Prob', 'NN2 WNT Prob', 'Molec Id', 'Pred Molec']\n",
    "final_df.columns = ['True Molec', 'Set', 'NN1 Non-Group3 Prob', 'NN1 Group3 Prob', 'NN2 SHH Prob', 'NN2 WNT Prob', 'Pred Molec']\n",
    "cols = final_df.columns.tolist()\n",
    "cols = ['NN1 Non-Group3 Prob', 'NN1 Group3 Prob', 'NN2 SHH Prob', 'NN2 WNT Prob',\n",
    "        'Pred Molec', 'True Molec', 'Set']\n",
    "final_df = final_df[cols]\n",
    "final_df = final_df.round(4)"
   ]
  },
  {
   "cell_type": "code",
   "execution_count": null,
   "metadata": {
    "pycharm": {
     "name": "#%%\n"
    },
    "scrolled": false
   },
   "outputs": [],
   "source": [
    "pd.set_option('display.max_rows', None)\n",
    "print(final_df)"
   ]
  },
  {
   "cell_type": "code",
   "execution_count": null,
   "metadata": {
    "collapsed": false,
    "pycharm": {
     "name": "#%%\n"
    }
   },
   "outputs": [],
   "source": [
    "final_df.to_csv('seq_classification_results.csv')"
   ]
  }
 ],
 "metadata": {
  "kernelspec": {
   "display_name": "Python 3",
   "language": "python",
   "name": "python3"
  },
  "language_info": {
   "codemirror_mode": {
    "name": "ipython",
    "version": 3
   },
   "file_extension": ".py",
   "mimetype": "text/x-python",
   "name": "python",
   "nbconvert_exporter": "python",
   "pygments_lexer": "ipython3",
   "version": "3.10.10"
  }
 },
 "nbformat": 4,
 "nbformat_minor": 4
}
