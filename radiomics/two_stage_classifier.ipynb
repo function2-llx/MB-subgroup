{
 "cells": [
  {
   "cell_type": "markdown",
   "source": [
    "# Two Stage Sequential Classifier"
   ],
   "metadata": {
    "collapsed": false,
    "pycharm": {
     "name": "#%% md\n"
    }
   }
  },
  {
   "cell_type": "markdown",
   "source": [
    "## Required Imports"
   ],
   "metadata": {
    "collapsed": false,
    "pycharm": {
     "name": "#%% md\n"
    }
   }
  },
  {
   "cell_type": "code",
   "execution_count": 86,
   "outputs": [],
   "source": [
    "import matplotlib.pyplot as plt\n",
    "import numpy as np\n",
    "import pandas as pd\n",
    "import seaborn as sns\n",
    "from sklearn import preprocessing\n",
    "from sklearn.metrics import accuracy_score, auc, confusion_matrix, f1_score, ConfusionMatrixDisplay, precision_score, recall_score, roc_curve\n",
    "from sklearn.model_selection import GridSearchCV, train_test_split\n",
    "from sklearn.neural_network import MLPClassifier\n",
    "from sklearn.preprocessing import label_binarize\n",
    "from sklearn.utils import resample\n",
    "from sklearn.utils.multiclass import unique_labels"
   ],
   "metadata": {
    "collapsed": false,
    "pycharm": {
     "name": "#%%\n"
    }
   }
  },
  {
   "cell_type": "markdown",
   "source": [
    "## User Defined Functions"
   ],
   "metadata": {
    "collapsed": false,
    "pycharm": {
     "name": "#%% md\n"
    }
   }
  },
  {
   "cell_type": "code",
   "execution_count": 87,
   "outputs": [],
   "source": [
    "def create_confusion_matrix(y_true, y_pred, labels=None, sample_weight=None, normalize=None, display_labels=None, include_values=True, xticks_rotation='horizontal', values_format=None, cmap='viridis', ax=None, colorbar=True):\n",
    "    \n",
    "    cm = confusion_matrix(y_true, y_pred, normalize=normalize)\n",
    "    \n",
    "    if display_labels is None:\n",
    "        if labels is None:\n",
    "            display_labels = unique_labels(y_true, y_pred)\n",
    "        else:\n",
    "            display_labels = labels\n",
    "\n",
    "    disp = ConfusionMatrixDisplay(confusion_matrix=cm,\n",
    "                             display_labels=display_labels)\n",
    "    return disp.plot(include_values=include_values,\n",
    "                     cmap=cmap, ax=ax, xticks_rotation=xticks_rotation,\n",
    "                     values_format=values_format)"
   ],
   "metadata": {
    "collapsed": false,
    "pycharm": {
     "name": "#%%\n"
    }
   }
  },
  {
   "cell_type": "code",
   "execution_count": 88,
   "outputs": [],
   "source": [
    "def specificity_score(y_true, y_pred):\n",
    "    TN = 0\n",
    "    FP = 0\n",
    "    for i in range(len(y_pred)):\n",
    "        if y_pred[i] == 0 and y_true[i] == 0:\n",
    "            TN += 1\n",
    "        if y_pred[i] == 1 and y_true[i] == 0:\n",
    "            FP += 1\n",
    "    \n",
    "    return TN / (TN + FP)"
   ],
   "metadata": {
    "collapsed": false,
    "pycharm": {
     "name": "#%%\n"
    }
   }
  },
  {
   "cell_type": "code",
   "execution_count": 89,
   "outputs": [],
   "source": [
    "def positive_pv_score(y_true, y_pred):\n",
    "    TP = 0\n",
    "    FP = 0\n",
    "    for i in range(len(y_true)):\n",
    "        if y_true[i] == y_pred[i] == 1:\n",
    "            TP += 1\n",
    "        elif y_true[i] == 0 and y_pred[i] == 1:\n",
    "            FP += 1\n",
    "\n",
    "    return TP/(TP+FP)"
   ],
   "metadata": {
    "collapsed": false,
    "pycharm": {
     "name": "#%%\n"
    }
   }
  },
  {
   "cell_type": "code",
   "execution_count": 90,
   "outputs": [],
   "source": [
    "def negative_pv_score(y_true, y_pred):\n",
    "    TN = 0\n",
    "    FN = 0\n",
    "    for i in range(len(y_true)):\n",
    "        if y_true[i] == y_pred[i] == 0:\n",
    "            TN += 1\n",
    "        elif y_true[i] == 1 and y_pred[i] == 0:\n",
    "            FN += 1\n",
    "    \n",
    "    return TN/(TN+FN) "
   ],
   "metadata": {
    "collapsed": false,
    "pycharm": {
     "name": "#%%\n"
    }
   }
  },
  {
   "cell_type": "code",
   "execution_count": 91,
   "outputs": [],
   "source": [
    "def create_ci(bootstrapped_scores, name):\n",
    "    for i in range(3):\n",
    "        sorted_scores = np.array(bootstrapped_scores)[:, i]\n",
    "        sorted_scores.sort()\n",
    "    \n",
    "        confidence_lower = sorted_scores[int(0.025 * len(sorted_scores))]\n",
    "        confidence_upper = sorted_scores[int(0.975 * len(sorted_scores))]\n",
    "    \n",
    "        print(\"95% Confidence interval for the {} score for class {}: [{:0.4f} - {:0.4}]\".format(name, i,\n",
    "        confidence_lower, confidence_upper))"
   ],
   "metadata": {
    "collapsed": false,
    "pycharm": {
     "name": "#%%\n"
    }
   }
  },
  {
   "cell_type": "code",
   "execution_count": 92,
   "outputs": [],
   "source": [
    "def my_classification_report(y_test_np, y_pred):\n",
    "\n",
    "    tot_TN = 0\n",
    "    tot_TP = 0\n",
    "    tot_FP = 0\n",
    "    tot_FN = 0\n",
    "\n",
    "    spec_arr = []\n",
    "    ppv_arr = []\n",
    "    npv_arr = []\n",
    "    rec_arr = []\n",
    "    acc_arr = []\n",
    "\n",
    "    print(\"Specificities\")\n",
    "    for group in range(3):\n",
    "        TN = 0\n",
    "        TP = 0\n",
    "        FN = 0\n",
    "        FP = 0\n",
    "        for i in range(len(y_test_np)):\n",
    "            if y_pred[i] != group and y_test_np[i] != group:\n",
    "                TN += 1\n",
    "            if y_pred[i] == group and y_test_np[i] != group:\n",
    "                FP += 1\n",
    "        tot_TN += TN\n",
    "        tot_FP += FP\n",
    "        spec_arr.append(TN/(TN+FP))\n",
    "        print(group, round(spec_arr[group],4))\n",
    "\n",
    "    print(\"Macro Avg : \" + str.format('{0:.4f}', np.array(spec_arr).mean()))\n",
    "    print(\"Micro Avg : \" + str.format('{0:.4f}', tot_TN / (tot_TN + tot_FP)), '\\n')\n",
    "\n",
    "    tot_TN = 0\n",
    "    tot_TP = 0\n",
    "    tot_FP = 0\n",
    "    tot_FN = 0\n",
    "\n",
    "    print(\"PPV/Precision\")\n",
    "    for group in range(3):\n",
    "        TN = 0\n",
    "        TP = 0\n",
    "        FN = 0\n",
    "        FP = 0\n",
    "        for i in range(len(y_test_np)):\n",
    "            if y_pred[i] == group and y_test_np[i] == group:\n",
    "                TP += 1\n",
    "            if y_pred[i] == group and y_test_np[i] != group:\n",
    "                FP += 1\n",
    "        tot_TP += TP\n",
    "        tot_FP += FP\n",
    "        ppv_arr.append(TP/(TP+FP))\n",
    "        print(group, round(ppv_arr[group],4))\n",
    "    \n",
    "    print(\"Macro Avg : \" + str.format('{0:.4f}', np.array(ppv_arr).mean()))\n",
    "    prec_for_mic_f1 = tot_TP / (tot_TP + tot_FP)\n",
    "    print(\"Micro Avg : \" + str.format('{0:.4f}', prec_for_mic_f1), '\\n')\n",
    "\n",
    "    tot_TN = 0\n",
    "    tot_TP = 0\n",
    "    tot_FP = 0\n",
    "    tot_FN = 0\n",
    "\n",
    "    print(\"NPV\")\n",
    "    for group in range(3):\n",
    "        TN = 0\n",
    "        TP = 0\n",
    "        FN = 0\n",
    "        FP = 0\n",
    "        for i in range(len(y_test_np)):\n",
    "            if y_pred[i] != group and y_test_np[i] != group:\n",
    "                TN += 1\n",
    "            if y_pred[i] != group and y_test_np[i] == group:\n",
    "                FN += 1\n",
    "        tot_TN += TN\n",
    "        tot_FN += FN\n",
    "        npv_arr.append(TN/(TN+FN))\n",
    "        print(group, round(npv_arr[group],4))\n",
    "    \n",
    "    print(\"Macro Avg : \" + str.format('{0:.4f}', np.array(npv_arr).mean()))\n",
    "    print(\"Micro Avg : \" + str.format('{0:.4f}', tot_TN / (tot_TN + tot_FN)), '\\n') \n",
    "    \n",
    "    tot_TN = 0\n",
    "    tot_TP = 0\n",
    "    tot_FP = 0\n",
    "    tot_FN = 0\n",
    "\n",
    "    print(\"Recall\")\n",
    "    for group in range(3):\n",
    "        TN = 0\n",
    "        TP = 0\n",
    "        FN = 0\n",
    "        FP = 0\n",
    "        for i in range(len(y_test_np)):\n",
    "            if y_pred[i] == group and y_test_np[i] == group:\n",
    "                TP += 1\n",
    "            if y_pred[i] != group and y_test_np[i] == group:\n",
    "                FN += 1\n",
    "        tot_TP += TP\n",
    "        tot_FN += FN\n",
    "        rec_arr.append(TP/(TP+FN))\n",
    "        print(group, round(rec_arr[group],4))\n",
    "    \n",
    "    print(\"Macro Avg : \" + str.format('{0:.4f}', np.array(rec_arr).mean()))\n",
    "    rec_for_mic_f1 = tot_TP / (tot_TP + tot_FN)\n",
    "    print(\"Micro Avg : \" + str.format('{0:.4f}', rec_for_mic_f1), '\\n')\n",
    "    \n",
    "    print(\"F1 Score\")\n",
    "    for group in range(3):\n",
    "        if rec_arr[group] + ppv_arr[group] == 0:\n",
    "            f1 = 0\n",
    "        else:\n",
    "            f1 = 2 * (rec_arr[group] * ppv_arr[group]) / (rec_arr[group] + ppv_arr[group])\n",
    "        print(group, round(f1, 4))\n",
    "    print(\"Macro Avg : \" + str.format('{0:.4f}', 2 * (np.array(rec_arr).mean() * np.array(ppv_arr).mean()) \n",
    "                               / (np.array(rec_arr).mean() + np.array(ppv_arr).mean())))\n",
    "    print(\"Micro Avg : \" + str.format('{0:.4f}', 2 * (prec_for_mic_f1 * rec_for_mic_f1)/ (prec_for_mic_f1 + rec_for_mic_f1)), '\\n')\n",
    "    \n",
    "    tot_TN = 0\n",
    "    tot_TP = 0\n",
    "    tot_FP = 0\n",
    "    tot_FN = 0   \n",
    "    \n",
    "    print(\"Accuracy:\")\n",
    "    for group in range(3):\n",
    "        TN = 0\n",
    "        TP = 0\n",
    "        FN = 0\n",
    "        FP = 0\n",
    "        for i in range(len(y_test_np)):\n",
    "            if y_pred[i] == group and y_test_np[i] == group:\n",
    "                TP += 1\n",
    "            if y_pred[i] != group and y_test_np[i] != group:\n",
    "                TN += 1\n",
    "            if y_pred[i] == group and y_test_np[i] != group:\n",
    "                FP += 1\n",
    "            if y_pred[i] != group and y_test_np[i] == group:\n",
    "                FN += 1\n",
    "        \n",
    "        tot_TP += TP\n",
    "        tot_TN += TN\n",
    "        tot_FP += FP\n",
    "        tot_FN += FN\n",
    "        \n",
    "        acc_arr.append((TP + TN)/(TP + TN + FP + FN))\n",
    "        print(group, round(acc_arr[group],10))\n",
    "\n",
    "    print(\"Macro Avg : \" + str.format('{0:.4f}', np.array(acc_arr).mean()))\n",
    "    print(\"Micro Avg : \" + str.format('{0:.4f}', (tot_TP + tot_TN)/(tot_TP + tot_TN + tot_FP + tot_FN)), '\\n') ##\n",
    "\n",
    "    print('multiclass acc:', (y_test_np == y_pred).sum() / len(y_test_np))"
   ],
   "metadata": {
    "collapsed": false,
    "pycharm": {
     "name": "#%%\n"
    }
   }
  },
  {
   "cell_type": "code",
   "execution_count": 93,
   "outputs": [],
   "source": [
    "def print_metrics(y_test, y_pred):\n",
    "    print(\"Sens Score: \" + str.format('{0:.4f}', (recall_score(y_test, y_pred))))\n",
    "    print(\"Spec Score: \" + str.format('{0:.4f}', (specificity_score(y_test.to_numpy(), y_pred))))\n",
    "    print(\"PPV Score: \" + str.format('{0:.4f}', (positive_pv_score(y_test.to_numpy(), y_pred))))\n",
    "    print(\"NPV Score: \" + str.format('{0:.4f}', (negative_pv_score(y_test.to_numpy(), y_pred))))\n",
    "    print(\"Acc Score: \" + str.format('{0:.4f}', (accuracy_score(y_test, y_pred))))\n",
    "    print(\"F1 Score: \" + str.format('{0:.4f}', (f1_score(y_test, y_pred))))"
   ],
   "metadata": {
    "collapsed": false,
    "pycharm": {
     "name": "#%%\n"
    }
   }
  },
  {
   "cell_type": "code",
   "execution_count": 94,
   "outputs": [],
   "source": [
    "def plot_roc_curve(model_name):\n",
    "    sns.set()\n",
    "    plt.figure(figsize=(7, 7))\n",
    "\n",
    "    ns_preds = [0 for _ in range(len(y_test))]\n",
    "\n",
    "    ns_fpr, ns_tpr, _ = roc_curve(y_test, ns_preds)\n",
    "\n",
    "    plt.plot(ns_fpr, ns_tpr, linestyle='--', label='No Skill')\n",
    "    plt.plot(fpr, tpr, marker='.', label=model_name)\n",
    "    plt.xlabel('1 - Specificity (False Positive Rate)',fontsize=16)\n",
    "    plt.ylabel('Sensitivity (True Positive Rate)',fontsize=16)\n",
    "\n",
    "    plt.legend(loc='lower right')\n",
    "    plt.title(f'{model_name}: ROC Curve for Test Set', fontsize=20, fontweight=\"semibold\")\n",
    "    short_auc = round(auc,4)\n",
    "    plt.text(.93,.1, \"AUC: \" + str(short_auc), \n",
    "        horizontalalignment=\"center\", verticalalignment=\"center\",\n",
    "        fontsize=14, fontweight=\"semibold\")\n",
    "    \n",
    "    plt.show()"
   ],
   "metadata": {
    "collapsed": false,
    "pycharm": {
     "name": "#%%\n"
    }
   }
  },
  {
   "cell_type": "code",
   "execution_count": 95,
   "outputs": [],
   "source": [
    "def create_intermed_confusion_matrix(model_name, model, X, y, normalize=None):\n",
    "    matrix = ConfusionMatrixDisplay.from_estimator(model, X, y,\n",
    "                               cmap=plt.cm.Blues,\n",
    "                                  normalize=normalize)\n",
    "    plt.title(f'{model_name} Confusion Matrix')\n",
    "    plt.show(matrix)\n",
    "    plt.show()"
   ],
   "metadata": {
    "collapsed": false,
    "pycharm": {
     "name": "#%%\n"
    }
   }
  },
  {
   "cell_type": "code",
   "execution_count": 96,
   "outputs": [],
   "source": [
    "def grid_search(model, params, X_train, y_train):\n",
    "    grid = GridSearchCV(estimator=model,\n",
    "                       param_grid=params,\n",
    "                       scoring='accuracy',\n",
    "                       cv=5,\n",
    "                       n_jobs=-1)\n",
    "    grid.fit(X_train, y_train)\n",
    "    return grid.best_params_"
   ],
   "metadata": {
    "collapsed": false,
    "pycharm": {
     "name": "#%%\n"
    }
   }
  },
  {
   "cell_type": "markdown",
   "source": [
    "## Data Loading"
   ],
   "metadata": {
    "collapsed": false,
    "pycharm": {
     "name": "#%% md\n"
    }
   }
  },
  {
   "cell_type": "code",
   "execution_count": 97,
   "outputs": [
    {
     "data": {
      "text/plain": "      住院号                 case molecular  sex  age split  \\\n0  523990  523990jiangjunliang    group4    1  5.0  test   \n1  547288      547288zhaoruiyi       shh    0  5.0  test   \n2  573499     573499wangyichen    group4    0  7.0  test   \n3  420087     420087chenxuanyu    group4    1  5.0  test   \n4  450251     450251zhenbaoshu    group4    1  7.0  test   \n\n  t1_diagnostics_Versions_PyRadiomics t1_diagnostics_Versions_Numpy  \\\n0                              v3.0.1                        1.24.0   \n1                              v3.0.1                        1.24.0   \n2                              v3.0.1                        1.24.0   \n3                              v3.0.1                        1.24.0   \n4                              v3.0.1                        1.24.0   \n\n  t1_diagnostics_Versions_SimpleITK t1_diagnostics_Versions_PyWavelet  ...  \\\n0                             2.2.0                             1.4.1  ...   \n1                             2.2.0                             1.4.1  ...   \n2                             2.2.0                             1.4.1  ...   \n3                             2.2.0                             1.4.1  ...   \n4                             2.2.0                             1.4.1  ...   \n\n  t2_wavelet-LLL_glszm_LargeAreaLowGrayLevelEmphasis  \\\n0                                           0.139828   \n1                                           0.150005   \n2                                           0.038659   \n3                                           0.010905   \n4                                           0.071403   \n\n  t2_wavelet-LLL_glszm_LowGrayLevelZoneEmphasis  \\\n0                                      0.002692   \n1                                      0.001145   \n2                                      0.000883   \n3                                      0.000603   \n4                                      0.001039   \n\n  t2_wavelet-LLL_glszm_SizeZoneNonUniformity  \\\n0                                2146.381813   \n1                                3756.582792   \n2                                3603.669974   \n3                                5775.595510   \n4                                3404.884640   \n\n  t2_wavelet-LLL_glszm_SizeZoneNonUniformityNormalized  \\\n0                                           0.289582     \n1                                           0.369815     \n2                                           0.350517     \n3                                           0.379125     \n4                                           0.312232     \n\n  t2_wavelet-LLL_glszm_SmallAreaEmphasis  \\\n0                               0.553560   \n1                               0.631059   \n2                               0.612712   \n3                               0.638758   \n4                               0.576097   \n\n  t2_wavelet-LLL_glszm_SmallAreaHighGrayLevelEmphasis  \\\n0                                         545.320313    \n1                                        1520.529135    \n2                                        1295.164923    \n3                                        1786.470304    \n4                                        1158.195974    \n\n  t2_wavelet-LLL_glszm_SmallAreaLowGrayLevelEmphasis  \\\n0                                           0.001513   \n1                                           0.000625   \n2                                           0.000567   \n3                                           0.000364   \n4                                           0.000580   \n\n   t2_wavelet-LLL_glszm_ZoneEntropy  t2_wavelet-LLL_glszm_ZonePercentage  \\\n0                          7.970995                             0.274153   \n1                          8.209870                             0.309563   \n2                          7.896832                             0.351728   \n3                          7.783485                             0.411641   \n4                          8.251352                             0.290994   \n\n   t2_wavelet-LLL_glszm_ZoneVariance  \n0                          65.452446  \n1                         146.649238  \n2                          38.601686  \n3                          15.026543  \n4                          76.299521  \n\n[5 rows x 1880 columns]",
      "text/html": "<div>\n<style scoped>\n    .dataframe tbody tr th:only-of-type {\n        vertical-align: middle;\n    }\n\n    .dataframe tbody tr th {\n        vertical-align: top;\n    }\n\n    .dataframe thead th {\n        text-align: right;\n    }\n</style>\n<table border=\"1\" class=\"dataframe\">\n  <thead>\n    <tr style=\"text-align: right;\">\n      <th></th>\n      <th>住院号</th>\n      <th>case</th>\n      <th>molecular</th>\n      <th>sex</th>\n      <th>age</th>\n      <th>split</th>\n      <th>t1_diagnostics_Versions_PyRadiomics</th>\n      <th>t1_diagnostics_Versions_Numpy</th>\n      <th>t1_diagnostics_Versions_SimpleITK</th>\n      <th>t1_diagnostics_Versions_PyWavelet</th>\n      <th>...</th>\n      <th>t2_wavelet-LLL_glszm_LargeAreaLowGrayLevelEmphasis</th>\n      <th>t2_wavelet-LLL_glszm_LowGrayLevelZoneEmphasis</th>\n      <th>t2_wavelet-LLL_glszm_SizeZoneNonUniformity</th>\n      <th>t2_wavelet-LLL_glszm_SizeZoneNonUniformityNormalized</th>\n      <th>t2_wavelet-LLL_glszm_SmallAreaEmphasis</th>\n      <th>t2_wavelet-LLL_glszm_SmallAreaHighGrayLevelEmphasis</th>\n      <th>t2_wavelet-LLL_glszm_SmallAreaLowGrayLevelEmphasis</th>\n      <th>t2_wavelet-LLL_glszm_ZoneEntropy</th>\n      <th>t2_wavelet-LLL_glszm_ZonePercentage</th>\n      <th>t2_wavelet-LLL_glszm_ZoneVariance</th>\n    </tr>\n  </thead>\n  <tbody>\n    <tr>\n      <th>0</th>\n      <td>523990</td>\n      <td>523990jiangjunliang</td>\n      <td>group4</td>\n      <td>1</td>\n      <td>5.0</td>\n      <td>test</td>\n      <td>v3.0.1</td>\n      <td>1.24.0</td>\n      <td>2.2.0</td>\n      <td>1.4.1</td>\n      <td>...</td>\n      <td>0.139828</td>\n      <td>0.002692</td>\n      <td>2146.381813</td>\n      <td>0.289582</td>\n      <td>0.553560</td>\n      <td>545.320313</td>\n      <td>0.001513</td>\n      <td>7.970995</td>\n      <td>0.274153</td>\n      <td>65.452446</td>\n    </tr>\n    <tr>\n      <th>1</th>\n      <td>547288</td>\n      <td>547288zhaoruiyi</td>\n      <td>shh</td>\n      <td>0</td>\n      <td>5.0</td>\n      <td>test</td>\n      <td>v3.0.1</td>\n      <td>1.24.0</td>\n      <td>2.2.0</td>\n      <td>1.4.1</td>\n      <td>...</td>\n      <td>0.150005</td>\n      <td>0.001145</td>\n      <td>3756.582792</td>\n      <td>0.369815</td>\n      <td>0.631059</td>\n      <td>1520.529135</td>\n      <td>0.000625</td>\n      <td>8.209870</td>\n      <td>0.309563</td>\n      <td>146.649238</td>\n    </tr>\n    <tr>\n      <th>2</th>\n      <td>573499</td>\n      <td>573499wangyichen</td>\n      <td>group4</td>\n      <td>0</td>\n      <td>7.0</td>\n      <td>test</td>\n      <td>v3.0.1</td>\n      <td>1.24.0</td>\n      <td>2.2.0</td>\n      <td>1.4.1</td>\n      <td>...</td>\n      <td>0.038659</td>\n      <td>0.000883</td>\n      <td>3603.669974</td>\n      <td>0.350517</td>\n      <td>0.612712</td>\n      <td>1295.164923</td>\n      <td>0.000567</td>\n      <td>7.896832</td>\n      <td>0.351728</td>\n      <td>38.601686</td>\n    </tr>\n    <tr>\n      <th>3</th>\n      <td>420087</td>\n      <td>420087chenxuanyu</td>\n      <td>group4</td>\n      <td>1</td>\n      <td>5.0</td>\n      <td>test</td>\n      <td>v3.0.1</td>\n      <td>1.24.0</td>\n      <td>2.2.0</td>\n      <td>1.4.1</td>\n      <td>...</td>\n      <td>0.010905</td>\n      <td>0.000603</td>\n      <td>5775.595510</td>\n      <td>0.379125</td>\n      <td>0.638758</td>\n      <td>1786.470304</td>\n      <td>0.000364</td>\n      <td>7.783485</td>\n      <td>0.411641</td>\n      <td>15.026543</td>\n    </tr>\n    <tr>\n      <th>4</th>\n      <td>450251</td>\n      <td>450251zhenbaoshu</td>\n      <td>group4</td>\n      <td>1</td>\n      <td>7.0</td>\n      <td>test</td>\n      <td>v3.0.1</td>\n      <td>1.24.0</td>\n      <td>2.2.0</td>\n      <td>1.4.1</td>\n      <td>...</td>\n      <td>0.071403</td>\n      <td>0.001039</td>\n      <td>3404.884640</td>\n      <td>0.312232</td>\n      <td>0.576097</td>\n      <td>1158.195974</td>\n      <td>0.000580</td>\n      <td>8.251352</td>\n      <td>0.290994</td>\n      <td>76.299521</td>\n    </tr>\n  </tbody>\n</table>\n<p>5 rows × 1880 columns</p>\n</div>"
     },
     "execution_count": 97,
     "metadata": {},
     "output_type": "execute_result"
    }
   ],
   "source": [
    "# load data\n",
    "df = pd.read_csv(\"features.csv\")\n",
    "sex_binarized = df['sex'].map(lambda sex: {'F': 0, 'M': 1}.get(sex, -1)).to_numpy()\n",
    "df['sex'] = sex_binarized\n",
    "df['age'] = df['age'].map(lambda x: 0 if pd.isna(x) else x)\n",
    "df.head()"
   ],
   "metadata": {
    "collapsed": false,
    "pycharm": {
     "name": "#%%\n"
    }
   }
  },
  {
   "cell_type": "code",
   "execution_count": 98,
   "outputs": [],
   "source": [
    "# obtain list of features selected from LASSO\n",
    "reduced_features_list = ['sex', 'age', 't1_log-sigma-1-mm-3D_glszm_SmallAreaLowGrayLevelEmphasis', 't1_log-sigma-3-mm-3D_firstorder_Median', 't1_log-sigma-3-mm-3D_glcm_ClusterProminence', 't1_log-sigma-3-mm-3D_glrlm_LowGrayLevelRunEmphasis', 't1_log-sigma-5-mm-3D_glszm_GrayLevelVariance', 't1_original_glszm_LargeAreaHighGrayLevelEmphasis', 't1_original_glszm_LargeAreaLowGrayLevelEmphasis', 't1_original_shape_Flatness', 't1_wavelet-HHL_firstorder_Skewness', 't1_wavelet-HLL_firstorder_Mean', 't1_wavelet-HLL_glcm_Correlation', 't1_wavelet-LHL_glcm_Correlation', 't1_wavelet-LLH_glszm_LargeAreaLowGrayLevelEmphasis', 't1_wavelet-LLL_firstorder_Skewness', 't1_wavelet-LLL_glszm_ZoneVariance', 't2_log-sigma-1-mm-3D_firstorder_Mean', 't2_log-sigma-1-mm-3D_firstorder_Median', 't2_log-sigma-1-mm-3D_glcm_Correlation', 't2_log-sigma-5-mm-3D_firstorder_Kurtosis', 't2_log-sigma-5-mm-3D_glrlm_RunLengthNonUniformity', 't2_log-sigma-5-mm-3D_glszm_SmallAreaEmphasis', 't2_original_glszm_GrayLevelNonUniformity', 't2_wavelet-HHH_glrlm_RunPercentage', 't2_wavelet-HHH_glszm_LargeAreaEmphasis', 't2_wavelet-HHH_glszm_SmallAreaLowGrayLevelEmphasis', 't2_wavelet-HHL_glcm_ClusterProminence', 't2_wavelet-HHL_glrlm_LongRunHighGrayLevelEmphasis', 't2_wavelet-HHL_glszm_LargeAreaHighGrayLevelEmphasis', 't2_wavelet-HLH_glszm_SizeZoneNonUniformityNormalized', 't2_wavelet-HLL_firstorder_Mean', 't2_wavelet-LHH_firstorder_Mean', 't2_wavelet-LHH_glszm_GrayLevelNonUniformityNormalized', 't2_wavelet-LHL_glcm_Idn', 't2_wavelet-LLL_firstorder_Energy', 't2_wavelet-LLL_glcm_JointAverage', 't1_log-sigma-3-mm-3D_glrlm_ShortRunLowGrayLevelEmphasis', 't1_wavelet-HHH_firstorder_Skewness', 't1_wavelet-HHH_glszm_LargeAreaHighGrayLevelEmphasis', 't1_wavelet-HHL_glcm_ClusterProminence', 't1_wavelet-LHH_firstorder_Median', 't2_log-sigma-5-mm-3D_glcm_Imc2', 't2_original_glcm_Idmn', 't2_wavelet-LLL_firstorder_Median', 't2_wavelet-HHH_firstorder_Skewness', 't2_original_firstorder_Kurtosis', 't2_wavelet-LLL_firstorder_TotalEnergy']"
   ],
   "metadata": {
    "collapsed": false,
    "pycharm": {
     "name": "#%%\n"
    }
   }
  },
  {
   "cell_type": "markdown",
   "source": [
    "## NN1: group3+4 vs rest (First Sequential)"
   ],
   "metadata": {
    "collapsed": false,
    "pycharm": {
     "name": "#%% md\n"
    }
   }
  },
  {
   "cell_type": "markdown",
   "source": [
    "### Data Preprocessing"
   ],
   "metadata": {
    "collapsed": false,
    "pycharm": {
     "name": "#%% md\n"
    }
   }
  },
  {
   "cell_type": "code",
   "execution_count": 99,
   "outputs": [],
   "source": [
    "first_features = df[reduced_features_list]"
   ],
   "metadata": {
    "collapsed": false,
    "pycharm": {
     "name": "#%%\n"
    }
   }
  },
  {
   "cell_type": "code",
   "execution_count": 100,
   "outputs": [
    {
     "name": "stdout",
     "output_type": "stream",
     "text": [
      "0    144\n",
      "1    103\n",
      "Name: molecular, dtype: int64\n"
     ]
    }
   ],
   "source": [
    "# Binarizing target\n",
    "first_target = df[\"molecular\"]\n",
    "\n",
    "# Marking 0 as group3+4 and 1 as wnt\n",
    "first_target = first_target.map(dict(group3=0, group4=0, shh=1, wnt=1))\n",
    "print(first_target.value_counts())"
   ],
   "metadata": {
    "collapsed": false,
    "pycharm": {
     "name": "#%%\n"
    }
   }
  },
  {
   "cell_type": "code",
   "execution_count": 101,
   "outputs": [
    {
     "name": "stdout",
     "output_type": "stream",
     "text": [
      "TRAIN\n",
      "0    105\n",
      "1     88\n",
      "Name: molecular, dtype: int64\n",
      "TEST\n",
      "0    39\n",
      "1    15\n",
      "Name: molecular, dtype: int64\n"
     ]
    }
   ],
   "source": [
    "# Train/test split\n",
    "train_idx = df['split'] != 'test'\n",
    "test_idx = ~train_idx\n",
    "# X_train_1, X_test_1, y_train_1, y_test_1 = train_test_split(first_features, first_target, test_size = 0.25, random_state = 42)\n",
    "X_train_1 = first_features[train_idx]\n",
    "y_train_1 = first_target[train_idx]\n",
    "X_test_1 = first_features[test_idx]\n",
    "y_test_1 = first_target[test_idx]\n",
    "print(\"TRAIN\")\n",
    "print(y_train_1.value_counts())\n",
    "\n",
    "print(\"TEST\")\n",
    "print(y_test_1.value_counts())"
   ],
   "metadata": {
    "collapsed": false,
    "pycharm": {
     "name": "#%%\n"
    }
   }
  },
  {
   "cell_type": "code",
   "execution_count": 102,
   "outputs": [],
   "source": [
    "# #NIR\n",
    "# NIR_G34 = 42/66\n",
    "# NIR_SHH = 14/66\n",
    "# NIR_WNT = 10/66\n",
    "#\n",
    "# print('%.4f' % NIR_G34)\n",
    "# print('%.4f' % NIR_SHH)\n",
    "# print('%.4f' % NIR_WNT)"
   ],
   "metadata": {
    "collapsed": false,
    "pycharm": {
     "name": "#%%\n"
    }
   }
  },
  {
   "cell_type": "markdown",
   "source": [
    "#### Resampling to Correct for Imbalance"
   ],
   "metadata": {
    "collapsed": false,
    "pycharm": {
     "name": "#%% md\n"
    }
   }
  },
  {
   "cell_type": "code",
   "execution_count": 103,
   "outputs": [],
   "source": [
    "first_X = pd.concat([X_train_1, y_train_1], axis = 1)\n",
    "first_X_0 = first_X[first_X['molecular'] == 0]\n",
    "first_X_1 = first_X[first_X['molecular'] == 1]"
   ],
   "metadata": {
    "collapsed": false,
    "pycharm": {
     "name": "#%%\n"
    }
   }
  },
  {
   "cell_type": "code",
   "execution_count": 104,
   "outputs": [],
   "source": [
    "assert len(first_X_0) >= len(first_X_1)\n",
    "upsampled_1 = resample(first_X_1, replace = True, n_samples = len(first_X_0), random_state = 42)\n",
    "upsampled = pd.concat([upsampled_1, first_X_0])\n",
    "upsampled = upsampled.sample(frac = 1, random_state = 42)"
   ],
   "metadata": {
    "collapsed": false,
    "pycharm": {
     "name": "#%%\n"
    }
   }
  },
  {
   "cell_type": "code",
   "execution_count": 105,
   "outputs": [
    {
     "name": "stdout",
     "output_type": "stream",
     "text": [
      "1    105\n",
      "0    105\n",
      "Name: molecular, dtype: int64\n"
     ]
    }
   ],
   "source": [
    "X_train_1 = upsampled.iloc[:, :-1]\n",
    "y_train_1 = upsampled.iloc[:, -1]\n",
    "print(y_train_1.value_counts())"
   ],
   "metadata": {
    "collapsed": false,
    "pycharm": {
     "name": "#%%\n"
    }
   }
  },
  {
   "cell_type": "markdown",
   "source": [
    "#### Standardizing Features"
   ],
   "metadata": {
    "collapsed": false,
    "pycharm": {
     "name": "#%% md\n"
    }
   }
  },
  {
   "cell_type": "code",
   "execution_count": 106,
   "outputs": [],
   "source": [
    "first_names = X_train_1.columns\n",
    "first_scaler = preprocessing.StandardScaler()"
   ],
   "metadata": {
    "collapsed": false,
    "pycharm": {
     "name": "#%%\n"
    }
   }
  },
  {
   "cell_type": "code",
   "execution_count": 107,
   "outputs": [],
   "source": [
    "X_train_1 = first_scaler.fit_transform(X_train_1)\n",
    "X_train_1 = pd.DataFrame(X_train_1, columns = first_names)"
   ],
   "metadata": {
    "collapsed": false,
    "pycharm": {
     "name": "#%%\n"
    }
   }
  },
  {
   "cell_type": "code",
   "execution_count": 108,
   "outputs": [],
   "source": [
    "X_test_1 = first_scaler.transform(X_test_1)\n",
    "X_test_1 = pd.DataFrame(X_test_1, columns = first_names)"
   ],
   "metadata": {
    "collapsed": false,
    "pycharm": {
     "name": "#%%\n"
    }
   }
  },
  {
   "cell_type": "markdown",
   "source": [],
   "metadata": {
    "collapsed": false,
    "pycharm": {
     "name": "#%% md\n"
    }
   }
  },
  {
   "cell_type": "markdown",
   "source": [
    "#### Grid Search for Hyperparameters"
   ],
   "metadata": {
    "collapsed": false,
    "pycharm": {
     "name": "#%% md\n"
    }
   }
  },
  {
   "cell_type": "code",
   "execution_count": 109,
   "outputs": [
    {
     "name": "stdout",
     "output_type": "stream",
     "text": [
      "{'hidden_layer_sizes': (100, 50, 100), 'learning_rate': 'constant'}\n"
     ]
    }
   ],
   "source": [
    "nn_model_1_model = MLPClassifier(max_iter = 2000, random_state = 42)\n",
    "nn_grid_params_1 = {'hidden_layer_sizes': [(100, 100, 50), (50, 100, 50), (100, 50, 100)],\n",
    "              'learning_rate': ['constant', 'invscaling', 'adaptive']\n",
    "}\n",
    "\n",
    "nn_params_1 = grid_search(nn_model_1_model, nn_grid_params_1, X_train_1, y_train_1)\n",
    "print(nn_params_1)"
   ],
   "metadata": {
    "collapsed": false,
    "pycharm": {
     "name": "#%%\n"
    }
   }
  },
  {
   "cell_type": "markdown",
   "source": [
    "#### Model Performance"
   ],
   "metadata": {
    "collapsed": false,
    "pycharm": {
     "name": "#%% md\n"
    }
   }
  },
  {
   "cell_type": "code",
   "execution_count": 143,
   "outputs": [
    {
     "name": "stdout",
     "output_type": "stream",
     "text": [
      "(54, 48)\n",
      "[0 1 1 0 0 0 0 0 0 0 0 0 0 0 0 0 0 0 0 0 0 0 0 0 0 0 0 0 1 0 0 0 0 1 0 0 0\n",
      " 0 0 0 0 0 0 0 0 0 0 0 0 0 1 0 1 0]\n",
      "[0 1 0 0 0 1 0 0 0 0 0 1 1 0 0 0 0 1 0 1 0 0 0 1 1 0 1 0 1 0 0 0 0 1 0 0 0\n",
      " 0 0 0 0 0 0 0 0 0 0 1 0 0 1 1 0 1]\n"
     ]
    }
   ],
   "source": [
    "nn_seq_1_model = MLPClassifier(nn_params_1['hidden_layer_sizes'], max_iter=2000, random_state=42, learning_rate=nn_params_1['learning_rate'])\n",
    "nn_seq_1_model.fit(X_train_1, y_train_1)\n",
    "y_pred_1 = nn_seq_1_model.predict(X_test_1)\n",
    "print(X_test_1.shape)\n",
    "print(y_pred_1)\n",
    "print(y_test_1.to_numpy())"
   ],
   "metadata": {
    "collapsed": false,
    "pycharm": {
     "name": "#%%\n"
    }
   }
  },
  {
   "cell_type": "code",
   "execution_count": 111,
   "outputs": [
    {
     "name": "stdout",
     "output_type": "stream",
     "text": [
      "Sens Score: 0.2667\n",
      "Spec Score: 0.9487\n",
      "PPV Score: 0.6667\n",
      "NPV Score: 0.7708\n",
      "Acc Score: 0.7593\n",
      "F1 Score: 0.3810\n"
     ]
    }
   ],
   "source": [
    "print_metrics(y_test_1, y_pred_1)"
   ],
   "metadata": {
    "collapsed": false,
    "pycharm": {
     "name": "#%%\n"
    }
   }
  },
  {
   "cell_type": "markdown",
   "source": [
    "# NN2: SHH vs WNT (Second Sequential) [decomposed from rest1]"
   ],
   "metadata": {
    "collapsed": false,
    "pycharm": {
     "name": "#%% md\n"
    }
   }
  },
  {
   "cell_type": "markdown",
   "source": [
    "### Data Preprocessing"
   ],
   "metadata": {
    "collapsed": false,
    "pycharm": {
     "name": "#%% md\n"
    }
   }
  },
  {
   "cell_type": "code",
   "execution_count": 112,
   "outputs": [
    {
     "name": "stdout",
     "output_type": "stream",
     "text": [
      "7\n"
     ]
    }
   ],
   "source": [
    "# obtain list of features selected from LASSO\n",
    "second_reduced_features_list = ['t1_log-sigma-3-mm-3D_glszm_GrayLevelNonUniformityNormalized', 't1_wavelet-LHL_glcm_Correlation', 't1_wavelet-LHL_glcm_Idn', 't2_wavelet-HHL_firstorder_InterquartileRange', 't2_wavelet-LLL_firstorder_Kurtosis', 't2_log-sigma-1-mm-3D_glszm_HighGrayLevelZoneEmphasis', 'age']\n",
    "print(len(second_reduced_features_list))"
   ],
   "metadata": {
    "collapsed": false,
    "pycharm": {
     "name": "#%%\n"
    }
   }
  },
  {
   "cell_type": "code",
   "execution_count": 113,
   "outputs": [],
   "source": [
    "# second_features = df.drop(['molecular','molec_id', 'dx_date','alive','os','pfs','seg_id'], axis = 1)\n",
    "# second_features = second_features[second_reduced_features_list]\n",
    "second_df = df[df['molecular'].isin(['wnt', 'shh'])]\n",
    "second_features = second_df[second_reduced_features_list]"
   ],
   "metadata": {
    "collapsed": false,
    "pycharm": {
     "name": "#%%\n"
    }
   }
  },
  {
   "cell_type": "code",
   "execution_count": 114,
   "outputs": [
    {
     "name": "stdout",
     "output_type": "stream",
     "text": [
      "0    79\n",
      "1    24\n",
      "Name: molecular, dtype: int64\n"
     ]
    }
   ],
   "source": [
    "# Binarizing target\n",
    "second_target = second_df[\"molecular\"]\n",
    "\n",
    "# Marking 0 as shh and 1 as wnt\n",
    "second_target = second_target.map({\n",
    "    'shh': 0,\n",
    "    'wnt': 1,\n",
    "})\n",
    "print(second_target.value_counts())"
   ],
   "metadata": {
    "collapsed": false,
    "pycharm": {
     "name": "#%%\n"
    }
   }
  },
  {
   "cell_type": "code",
   "execution_count": 115,
   "outputs": [],
   "source": [
    "# second_target = second_target.reset_index(drop = True)\n",
    "# second_features = second_features.reset_index(drop = True)"
   ],
   "metadata": {
    "collapsed": false,
    "pycharm": {
     "name": "#%%\n"
    }
   }
  },
  {
   "cell_type": "code",
   "execution_count": 116,
   "outputs": [
    {
     "name": "stdout",
     "output_type": "stream",
     "text": [
      "TRAIN\n",
      "0    69\n",
      "1    19\n",
      "Name: molecular, dtype: int64\n",
      "TEST\n",
      "0    10\n",
      "1     5\n",
      "Name: molecular, dtype: int64\n"
     ]
    },
    {
     "name": "stderr",
     "output_type": "stream",
     "text": [
      "/tmp/ipykernel_48292/992380895.py:2: UserWarning: Boolean Series key will be reindexed to match DataFrame index.\n",
      "  X_train_2 = second_features[train_idx]\n",
      "/tmp/ipykernel_48292/992380895.py:3: UserWarning: Boolean Series key will be reindexed to match DataFrame index.\n",
      "  X_test_2 = second_features[test_idx]\n"
     ]
    }
   ],
   "source": [
    "# Train/test split\n",
    "X_train_2 = second_features[train_idx]\n",
    "X_test_2 = second_features[test_idx]\n",
    "y_train_2 = second_target[train_idx]\n",
    "y_test_2 = second_target[test_idx]\n",
    "# X_train_2, X_test_2, y_train_2, y_test_2 = train_test_split(second_features, second_target,\n",
    "#                                                     test_size = 0.25, random_state = 42)\n",
    "print(\"TRAIN\")\n",
    "print(y_train_2.value_counts())\n",
    "\n",
    "print(\"TEST\")\n",
    "print(y_test_2.value_counts())"
   ],
   "metadata": {
    "collapsed": false,
    "pycharm": {
     "name": "#%%\n"
    }
   }
  },
  {
   "cell_type": "markdown",
   "source": [
    "#### Resampling to Correct for Imbalance "
   ],
   "metadata": {
    "collapsed": false,
    "pycharm": {
     "name": "#%% md\n"
    }
   }
  },
  {
   "cell_type": "code",
   "execution_count": 117,
   "outputs": [],
   "source": [
    "second_X = pd.concat([X_train_2, y_train_2], axis = 1)\n",
    "second_X_0 = second_X[second_X['molecular'] == 0]\n",
    "second_X_1 = second_X[second_X['molecular'] == 1]"
   ],
   "metadata": {
    "collapsed": false,
    "pycharm": {
     "name": "#%%\n"
    }
   }
  },
  {
   "cell_type": "code",
   "execution_count": 118,
   "outputs": [],
   "source": [
    "assert len(second_X_0) >= len(second_X_1)\n",
    "second_upsampled_1 = resample(second_X_1, replace = True, n_samples = len(second_X_0), random_state = 42)\n",
    "second_upsampled = pd.concat([second_upsampled_1, second_X_0])\n",
    "second_upsampled = second_upsampled.sample(frac = 1, random_state = 42)"
   ],
   "metadata": {
    "collapsed": false,
    "pycharm": {
     "name": "#%%\n"
    }
   }
  },
  {
   "cell_type": "code",
   "execution_count": 119,
   "outputs": [
    {
     "name": "stdout",
     "output_type": "stream",
     "text": [
      "0    69\n",
      "1    69\n",
      "Name: molecular, dtype: int64\n"
     ]
    }
   ],
   "source": [
    "X_train_2 = second_upsampled.iloc[:, :-1]\n",
    "y_train_2 = second_upsampled.iloc[:, -1]\n",
    "print(y_train_2.value_counts())"
   ],
   "metadata": {
    "collapsed": false,
    "pycharm": {
     "name": "#%%\n"
    }
   }
  },
  {
   "cell_type": "markdown",
   "source": [
    "#### Standardizing Features"
   ],
   "metadata": {
    "collapsed": false,
    "pycharm": {
     "name": "#%% md\n"
    }
   }
  },
  {
   "cell_type": "code",
   "execution_count": 120,
   "outputs": [],
   "source": [
    "second_names = X_train_2.columns\n",
    "second_scaler = preprocessing.StandardScaler()"
   ],
   "metadata": {
    "collapsed": false,
    "pycharm": {
     "name": "#%%\n"
    }
   }
  },
  {
   "cell_type": "code",
   "execution_count": 121,
   "outputs": [],
   "source": [
    "X_train_2 = second_scaler.fit_transform(X_train_2)\n",
    "X_train_2 = pd.DataFrame(X_train_2, columns = second_names)"
   ],
   "metadata": {
    "collapsed": false,
    "pycharm": {
     "name": "#%%\n"
    }
   }
  },
  {
   "cell_type": "code",
   "execution_count": 122,
   "outputs": [],
   "source": [
    "X_test_2 = second_scaler.transform(X_test_2)\n",
    "X_test_2 = pd.DataFrame(X_test_2, columns = second_names)"
   ],
   "metadata": {
    "collapsed": false,
    "pycharm": {
     "name": "#%%\n"
    }
   }
  },
  {
   "cell_type": "markdown",
   "source": [
    "### Modeling"
   ],
   "metadata": {
    "collapsed": false,
    "pycharm": {
     "name": "#%% md\n"
    }
   }
  },
  {
   "cell_type": "markdown",
   "source": [
    "#### Model Performance"
   ],
   "metadata": {
    "collapsed": false,
    "pycharm": {
     "name": "#%% md\n"
    }
   }
  },
  {
   "cell_type": "code",
   "execution_count": 123,
   "outputs": [
    {
     "name": "stdout",
     "output_type": "stream",
     "text": [
      "{'hidden_layer_sizes': (50, 100, 50), 'learning_rate': 'constant'}\n"
     ]
    }
   ],
   "source": [
    "nn_model_2_model = MLPClassifier(max_iter=2000, random_state=42)\n",
    "nn_grid_params_2 = {'hidden_layer_sizes': [(100, 100, 50), (50, 100, 50), (100, 50, 100)],\n",
    "              'learning_rate': ['constant', 'invscaling', 'adaptive']\n",
    "}\n",
    "\n",
    "nn_params_2 = grid_search(nn_model_2_model, nn_grid_params_2, X_train_2, y_train_2)\n",
    "print(nn_params_2)"
   ],
   "metadata": {
    "collapsed": false,
    "pycharm": {
     "name": "#%%\n"
    }
   }
  },
  {
   "cell_type": "code",
   "execution_count": 124,
   "outputs": [],
   "source": [
    "nn_seq_2_model = MLPClassifier(nn_params_2['hidden_layer_sizes'], max_iter=2000, random_state=42, learning_rate=nn_params_2['learning_rate'])\n",
    "nn_seq_2_model.fit(X_train_2, y_train_2)\n",
    "y_pred_2 = nn_seq_2_model.predict(X_test_2)"
   ],
   "metadata": {
    "collapsed": false,
    "pycharm": {
     "name": "#%%\n"
    }
   }
  },
  {
   "cell_type": "code",
   "execution_count": 125,
   "outputs": [
    {
     "data": {
      "text/plain": "<Figure size 640x480 with 2 Axes>",
      "image/png": "[encoded data removed]"
     },
     "metadata": {},
     "output_type": "display_data"
    }
   ],
   "source": [
    "create_intermed_confusion_matrix('Neural Network', nn_seq_2_model, X_test_2, y_test_2)"
   ],
   "metadata": {
    "collapsed": false,
    "pycharm": {
     "name": "#%%\n"
    }
   }
  },
  {
   "cell_type": "markdown",
   "source": [
    "## Testing"
   ],
   "metadata": {
    "collapsed": false,
    "pycharm": {
     "name": "#%% md\n"
    }
   }
  },
  {
   "cell_type": "code",
   "execution_count": 126,
   "outputs": [],
   "source": [
    "# Test features\n",
    "# test_features = df.drop(['molecular','molec_id', 'dx_date','alive','os','pfs','seg_id'], axis = 1)\n",
    "test_features = df.copy()\n",
    "test_target = df['molecular']\n",
    "# test_target = test_target.map(dict(group3 = 0, shh = 1, wnt = 2))\n",
    "test_target = test_target.map({\n",
    "    'group3': 0,\n",
    "    'group4': 0,\n",
    "    'shh': 1,\n",
    "    'wnt': 2,\n",
    "})"
   ],
   "metadata": {
    "collapsed": false,
    "pycharm": {
     "name": "#%%\n"
    }
   }
  },
  {
   "cell_type": "code",
   "execution_count": 127,
   "outputs": [
    {
     "name": "stdout",
     "output_type": "stream",
     "text": [
      "TRAIN\n",
      "0    105\n",
      "1     69\n",
      "2     19\n",
      "Name: molecular, dtype: int64\n",
      "TEST\n",
      "0    39\n",
      "1    10\n",
      "2     5\n",
      "Name: molecular, dtype: int64\n"
     ]
    }
   ],
   "source": [
    "# Train/test split\n",
    "# X_train, X_test, y_train, y_test = train_test_split(test_features, test_target,\n",
    "#                                                     test_size = 0.25, random_state = 42)\n",
    "X_train = test_features[train_idx]\n",
    "X_test = test_features[test_idx]\n",
    "y_train = test_target[train_idx]\n",
    "y_test = test_target[test_idx]\n",
    "print(\"TRAIN\")\n",
    "print(y_train.value_counts())\n",
    "\n",
    "print(\"TEST\")\n",
    "print(y_test.value_counts())"
   ],
   "metadata": {
    "collapsed": false,
    "pycharm": {
     "name": "#%%\n"
    }
   }
  },
  {
   "cell_type": "code",
   "execution_count": 128,
   "outputs": [],
   "source": [
    "# Data Preparation\n",
    "# X_test = X_test.reset_index(drop = True)\n",
    "# y_test = y_test.reset_index(drop = True)\n",
    "# sex_binarized = X_test['sex'].map(dict(M = 1, F = 0)).to_numpy()\n",
    "# X_test['sex'] = sex_binarized\n",
    "X_test_reduced = X_test[reduced_features_list]"
   ],
   "metadata": {
    "collapsed": false,
    "pycharm": {
     "name": "#%%\n"
    }
   }
  },
  {
   "cell_type": "markdown",
   "source": [
    "### Standardization for NN1"
   ],
   "metadata": {
    "collapsed": false,
    "pycharm": {
     "name": "#%% md\n"
    }
   }
  },
  {
   "cell_type": "code",
   "execution_count": 129,
   "outputs": [],
   "source": [
    "names = X_test_reduced.columns\n",
    "X_test_for_first = first_scaler.transform(X_test_reduced)\n",
    "X_test_for_first = pd.DataFrame(X_test_for_first, columns = names)"
   ],
   "metadata": {
    "collapsed": false,
    "pycharm": {
     "name": "#%%\n"
    }
   }
  },
  {
   "cell_type": "markdown",
   "source": [
    "### Modeling"
   ],
   "metadata": {
    "collapsed": false,
    "pycharm": {
     "name": "#%% md\n"
    }
   }
  },
  {
   "cell_type": "code",
   "execution_count": 130,
   "outputs": [
    {
     "name": "stdout",
     "output_type": "stream",
     "text": [
      "[0 1 1 0 0 0 0 0 0 0 0 0 0 0 0 0 0 0 0 0 0 0 0 0 0 0 0 0 1 0 0 0 0 1 0 0 0\n",
      " 0 0 0 0 0 0 0 0 0 0 0 0 0 1 0 1 0]\n"
     ]
    }
   ],
   "source": [
    "y_preds_after_first = nn_seq_1_model.predict(X_test_for_first)\n",
    "print(y_preds_after_first)"
   ],
   "metadata": {
    "collapsed": false,
    "pycharm": {
     "name": "#%%\n"
    }
   }
  },
  {
   "cell_type": "code",
   "execution_count": 131,
   "outputs": [],
   "source": [
    "#keeps all that are group3+4, indifferent to shh/wnt label\n",
    "group3_indices = np.where(y_preds_after_first == 0)\n",
    "other_indices = np.where(y_preds_after_first != 0)\n",
    "\n",
    "group3_preds = y_preds_after_first[group3_indices]\n",
    "y_test_for_group3 = np.array(y_test)[group3_indices]\n",
    "\n",
    "X_test_after_first_model = X_test.iloc[other_indices].reset_index(drop = True)\n",
    "y_test_after_first_model = y_test.iloc[other_indices].reset_index(drop = True)\n",
    "\n",
    "X_test_after_first_model = X_test_after_first_model[second_reduced_features_list]"
   ],
   "metadata": {
    "collapsed": false,
    "pycharm": {
     "name": "#%%\n"
    }
   }
  },
  {
   "cell_type": "markdown",
   "source": [
    "### Standardization for NN2"
   ],
   "metadata": {
    "collapsed": false,
    "pycharm": {
     "name": "#%% md\n"
    }
   }
  },
  {
   "cell_type": "code",
   "execution_count": 132,
   "outputs": [],
   "source": [
    "X_test_after_first_model = second_scaler.transform(X_test_after_first_model)"
   ],
   "metadata": {
    "collapsed": false,
    "pycharm": {
     "name": "#%%\n"
    }
   }
  },
  {
   "cell_type": "code",
   "execution_count": 133,
   "outputs": [],
   "source": [
    "#relabel original test-dictionary\n",
    "#allows us to dro group3 from 2nd stage\n",
    "#allows accuracy_score of binary outputs: shh now 0, wnt now 1\n",
    "y_test_after_first_model = np.array(y_test_after_first_model)\n",
    "y_test_after_first_model[y_test_after_first_model == 0] = -1\n",
    "y_test_after_first_model[y_test_after_first_model == 1] = 0\n",
    "y_test_after_first_model[y_test_after_first_model == 2] = 1"
   ],
   "metadata": {
    "collapsed": false,
    "pycharm": {
     "name": "#%%\n"
    }
   }
  },
  {
   "cell_type": "code",
   "execution_count": 134,
   "outputs": [
    {
     "name": "stdout",
     "output_type": "stream",
     "text": [
      "[0 0 0 0 0 0]\n",
      "0.6666666666666666\n"
     ]
    },
    {
     "name": "stderr",
     "output_type": "stream",
     "text": [
      "/home/luolx21/miniconda3/envs/mb/lib/python3.10/site-packages/sklearn/base.py:409: UserWarning: X does not have valid feature names, but MLPClassifier was fitted with feature names\n",
      "  warnings.warn(\n"
     ]
    }
   ],
   "source": [
    "y_preds_after_second = nn_seq_2_model.predict(X_test_after_first_model)\n",
    "print(y_preds_after_second)\n",
    "print(accuracy_score(y_test_after_first_model, y_preds_after_second))"
   ],
   "metadata": {
    "collapsed": false,
    "pycharm": {
     "name": "#%%\n"
    }
   }
  },
  {
   "cell_type": "markdown",
   "source": [
    "### Post-processing"
   ],
   "metadata": {
    "collapsed": false,
    "pycharm": {
     "name": "#%% md\n"
    }
   }
  },
  {
   "cell_type": "code",
   "execution_count": 135,
   "outputs": [],
   "source": [
    "#relabel prediction outputs to match 3-way; wnt to 2, shh to 1\n",
    "#group3 is 0 already from \"group3_preds\" and \"y_test_for_group3\" derived from \"group3_indices\"\n",
    "y_preds_after_second[y_preds_after_second == 1] = 2\n",
    "y_preds_after_second[y_preds_after_second == 0] = 1"
   ],
   "metadata": {
    "collapsed": false,
    "pycharm": {
     "name": "#%%\n"
    }
   }
  },
  {
   "cell_type": "code",
   "execution_count": 136,
   "outputs": [],
   "source": [
    "#revert test-labels to 3-way; wnt back to 2, shh back to 1, group3 back to 0\n",
    "y_test_after_first_model[y_test_after_first_model == 1] = 2\n",
    "y_test_after_first_model[y_test_after_first_model == 0] = 1\n",
    "y_test_after_first_model[y_test_after_first_model == -1] = 0"
   ],
   "metadata": {
    "collapsed": false,
    "pycharm": {
     "name": "#%%\n"
    }
   }
  },
  {
   "cell_type": "code",
   "execution_count": 137,
   "outputs": [],
   "source": [
    "y_preds_overall = np.concatenate([y_preds_after_second, group3_preds])\n",
    "y_test_overall = np.concatenate([y_test_after_first_model, y_test_for_group3])"
   ],
   "metadata": {
    "collapsed": false,
    "pycharm": {
     "name": "#%%\n"
    }
   }
  },
  {
   "cell_type": "markdown",
   "source": [
    "## Results "
   ],
   "metadata": {
    "collapsed": false,
    "pycharm": {
     "name": "#%% md\n"
    }
   }
  },
  {
   "cell_type": "code",
   "execution_count": 146,
   "outputs": [
    {
     "name": "stdout",
     "output_type": "stream",
     "text": [
      "[1 0 1 1 1 0 0 0 0 2 0 0 0 0 0 1 1 0 0 0 0 2 0 1 0 0 0 2 1 0 2 0 0 0 0 0 0\n",
      " 0 0 0 0 0 0 0 0 0 0 0 0 2 0 0 1 1]\n",
      "[1 1 1 1 1 1 0 0 0 0 0 0 0 0 0 0 0 0 0 0 0 0 0 0 0 0 0 0 0 0 0 0 0 0 0 0 0\n",
      " 0 0 0 0 0 0 0 0 0 0 0 0 0 0 0 0 0]\n",
      "41\n",
      "54\n",
      "Acc: 0.7592592592592593\n"
     ]
    }
   ],
   "source": [
    "print(y_test_overall)\n",
    "print(y_preds_overall)\n",
    "print((y_test_overall == y_preds_overall).sum())\n",
    "print(y_test_overall.shape[0])\n",
    "print(\"Acc: \" + str(accuracy_score(y_test_overall, y_preds_overall)))"
   ],
   "metadata": {
    "collapsed": false,
    "pycharm": {
     "name": "#%%\n"
    }
   }
  },
  {
   "cell_type": "code",
   "execution_count": 139,
   "outputs": [
    {
     "data": {
      "text/plain": "<Figure size 640x480 with 2 Axes>",
      "image/png": "[encoded data removed]"
     },
     "metadata": {},
     "output_type": "display_data"
    }
   ],
   "source": [
    "matrix = create_confusion_matrix(y_test_overall, y_preds_overall, cmap=plt.cm.Blues)\n",
    "plt.title('NN1 + NN2 Confusion Matrix')\n",
    "plt.show(matrix)\n",
    "plt.show()"
   ],
   "metadata": {
    "collapsed": false,
    "pycharm": {
     "name": "#%%\n"
    }
   }
  },
  {
   "cell_type": "code",
   "execution_count": 140,
   "outputs": [
    {
     "data": {
      "text/plain": "<Figure size 640x480 with 2 Axes>",
      "image/png": "[encoded data removed]"
     },
     "metadata": {},
     "output_type": "display_data"
    }
   ],
   "source": [
    "matrix = create_confusion_matrix(y_test_overall, y_preds_overall, cmap=plt.cm.Blues, normalize = 'true')\n",
    "plt.title('Normalized NN1 + NN2 Confusion Matrix')\n",
    "plt.show(matrix)\n",
    "plt.show()"
   ],
   "metadata": {
    "collapsed": false,
    "pycharm": {
     "name": "#%%\n"
    }
   }
  },
  {
   "cell_type": "code",
   "execution_count": 141,
   "outputs": [
    {
     "name": "stdout",
     "output_type": "stream",
     "text": [
      "Specificities\n",
      "0 0.2667\n",
      "1 0.9545\n",
      "2 1.0\n",
      "Macro Avg : 0.7404\n",
      "Micro Avg : 0.8796 \n",
      "\n",
      "PPV/Precision\n",
      "0 0.7708\n",
      "1 0.6667\n"
     ]
    },
    {
     "ename": "ZeroDivisionError",
     "evalue": "division by zero",
     "output_type": "error",
     "traceback": [
      "\u001B[0;31m---------------------------------------------------------------------------\u001B[0m",
      "\u001B[0;31mZeroDivisionError\u001B[0m                         Traceback (most recent call last)",
      "Cell \u001B[0;32mIn[141], line 3\u001B[0m\n\u001B[1;32m      1\u001B[0m \u001B[38;5;66;03m# 3-way scores\u001B[39;00m\n\u001B[1;32m      2\u001B[0m y_test_np \u001B[38;5;241m=\u001B[39m y_test\u001B[38;5;241m.\u001B[39mto_numpy()\n\u001B[0;32m----> 3\u001B[0m \u001B[43mmy_classification_report\u001B[49m\u001B[43m(\u001B[49m\u001B[43my_test_overall\u001B[49m\u001B[43m,\u001B[49m\u001B[43m \u001B[49m\u001B[43my_preds_overall\u001B[49m\u001B[43m)\u001B[49m\n\u001B[1;32m      5\u001B[0m y_test_bin \u001B[38;5;241m=\u001B[39m label_binarize(y_test_overall, classes \u001B[38;5;241m=\u001B[39m [\u001B[38;5;241m0\u001B[39m, \u001B[38;5;241m1\u001B[39m, \u001B[38;5;241m2\u001B[39m])\n\u001B[1;32m      6\u001B[0m y_pred_bin \u001B[38;5;241m=\u001B[39m label_binarize(y_preds_overall, classes \u001B[38;5;241m=\u001B[39m [\u001B[38;5;241m0\u001B[39m, \u001B[38;5;241m1\u001B[39m, \u001B[38;5;241m2\u001B[39m])\n",
      "Cell \u001B[0;32mIn[92], line 51\u001B[0m, in \u001B[0;36mmy_classification_report\u001B[0;34m(y_test_np, y_pred)\u001B[0m\n\u001B[1;32m     49\u001B[0m     tot_TP \u001B[38;5;241m+\u001B[39m\u001B[38;5;241m=\u001B[39m TP\n\u001B[1;32m     50\u001B[0m     tot_FP \u001B[38;5;241m+\u001B[39m\u001B[38;5;241m=\u001B[39m FP\n\u001B[0;32m---> 51\u001B[0m     ppv_arr\u001B[38;5;241m.\u001B[39mappend(\u001B[43mTP\u001B[49m\u001B[38;5;241;43m/\u001B[39;49m\u001B[43m(\u001B[49m\u001B[43mTP\u001B[49m\u001B[38;5;241;43m+\u001B[39;49m\u001B[43mFP\u001B[49m\u001B[43m)\u001B[49m)\n\u001B[1;32m     52\u001B[0m     \u001B[38;5;28mprint\u001B[39m(group, \u001B[38;5;28mround\u001B[39m(ppv_arr[group],\u001B[38;5;241m4\u001B[39m))\n\u001B[1;32m     54\u001B[0m \u001B[38;5;28mprint\u001B[39m(\u001B[38;5;124m\"\u001B[39m\u001B[38;5;124mMacro Avg : \u001B[39m\u001B[38;5;124m\"\u001B[39m \u001B[38;5;241m+\u001B[39m \u001B[38;5;28mstr\u001B[39m\u001B[38;5;241m.\u001B[39mformat(\u001B[38;5;124m'\u001B[39m\u001B[38;5;132;01m{0:.4f}\u001B[39;00m\u001B[38;5;124m'\u001B[39m, np\u001B[38;5;241m.\u001B[39marray(ppv_arr)\u001B[38;5;241m.\u001B[39mmean()))\n",
      "\u001B[0;31mZeroDivisionError\u001B[0m: division by zero"
     ]
    }
   ],
   "source": [
    "# 3-way scores\n",
    "y_test_np = y_test.to_numpy()\n",
    "my_classification_report(y_test_overall, y_preds_overall)\n",
    "\n",
    "y_test_bin = label_binarize(y_test_overall, classes = [0, 1, 2])\n",
    "y_pred_bin = label_binarize(y_preds_overall, classes = [0, 1, 2])"
   ],
   "metadata": {
    "collapsed": false,
    "pycharm": {
     "name": "#%%\n"
    }
   }
  },
  {
   "cell_type": "markdown",
   "source": [
    "### Confidence Intervals"
   ],
   "metadata": {
    "collapsed": false,
    "pycharm": {
     "name": "#%% md\n"
    }
   }
  },
  {
   "cell_type": "code",
   "execution_count": null,
   "outputs": [],
   "source": [
    "n_classes = 3\n",
    "\n",
    "n_bootstraps = 2000\n",
    "rng_seed = 42  # control reproducibility\n",
    "bootstrapped_auc_scores = []\n",
    "bootstrapped_acc_scores = []\n",
    "bootstrapped_spec_scores = []\n",
    "bootstrapped_prec_scores = []\n",
    "bootstrapped_rec_scores = []\n",
    "bootstrapped_f_one_scores = []\n",
    "bootstrapped_ppv_scores = [] ##\n",
    "bootstrapped_npv_scores = [] ##\n",
    "\n",
    "rng = np.random.RandomState(rng_seed)\n",
    "for i in range(n_bootstraps):\n",
    "    # bootstrap by sampling with replacement on the prediction indices\n",
    "    indices = rng.randint(0, len(y_test_overall), len(y_test_overall))\n",
    "    if len(np.unique(y_test_overall[indices])) < 2:\n",
    "        # We need at least one positive and one negative sample for ROC AUC\n",
    "        # to be defined: reject the sample\n",
    "        continue\n",
    "    \n",
    "    one_acc = []\n",
    "    one_spec = []\n",
    "    one_prec = []\n",
    "    one_rec = []\n",
    "    one_f_one = []\n",
    "    one_ppv = [] ##\n",
    "    one_npv = [] ##\n",
    "    for i in range(n_classes):\n",
    "        one_acc.append(accuracy_score(y_test_bin[:, i][indices], y_pred_bin[:, i][indices]))\n",
    "        one_spec.append(specificity_score(y_test_bin[:, i][indices], y_pred_bin[:, i][indices]))\n",
    "        one_prec.append(precision_score(y_test_bin[:, i][indices], y_pred_bin[:, i][indices]))\n",
    "        one_rec.append(recall_score(y_test_bin[:, i][indices], y_pred_bin[:, i][indices]))\n",
    "        one_f_one.append(f1_score(y_test_bin[:, i][indices], y_pred_bin[:, i][indices]))\n",
    "        one_ppv.append(positive_pv_score(y_test_bin[:, i][indices], y_pred_bin[:, i][indices])) ##\n",
    "        one_npv.append(negative_pv_score(y_test_bin[:, i][indices], y_pred_bin[:, i][indices])) ##\n",
    "\n",
    "    bootstrapped_acc_scores.append(one_acc)\n",
    "    bootstrapped_spec_scores.append(one_spec)\n",
    "    bootstrapped_prec_scores.append(one_prec)\n",
    "    bootstrapped_rec_scores.append(one_rec)\n",
    "    bootstrapped_f_one_scores.append(one_f_one)\n",
    "    bootstrapped_ppv_scores.append(one_ppv) ##\n",
    "    bootstrapped_npv_scores.append(one_npv) ##"
   ],
   "metadata": {
    "collapsed": false,
    "pycharm": {
     "name": "#%%\n"
    }
   }
  },
  {
   "cell_type": "code",
   "execution_count": null,
   "outputs": [],
   "source": [
    "create_ci(bootstrapped_acc_scores, \"Accuracy\")\n",
    "create_ci(bootstrapped_spec_scores, \"Specificity\")\n",
    "create_ci(bootstrapped_prec_scores, \"Precision\")\n",
    "create_ci(bootstrapped_rec_scores, \"Recall\")\n",
    "create_ci(bootstrapped_f_one_scores, \"F1\")\n",
    "create_ci(bootstrapped_ppv_scores, \"PPV\") ##\n",
    "create_ci(bootstrapped_npv_scores, \"NPV\") ##"
   ],
   "metadata": {
    "collapsed": false,
    "pycharm": {
     "name": "#%%\n"
    }
   }
  },
  {
   "cell_type": "markdown",
   "source": [
    "## Individual Classification Results"
   ],
   "metadata": {
    "collapsed": false,
    "pycharm": {
     "name": "#%% md\n"
    }
   }
  },
  {
   "cell_type": "code",
   "execution_count": null,
   "outputs": [],
   "source": [
    "metadata_df = df['molecular']\n",
    "target_for_table = df['molecular']"
   ],
   "metadata": {
    "collapsed": false,
    "pycharm": {
     "name": "#%%\n"
    }
   }
  },
  {
   "cell_type": "code",
   "execution_count": null,
   "outputs": [],
   "source": [
    "# features_for_table = df.drop(['molecular','molec_id', 'dx_date','alive','os','pfs','seg_id'], axis = 1)\n",
    "features_for_table = df.drop(columns='molecular')\n",
    "# target_for_table = target_for_table.map(dict(group3=0, shh = 1, wnt = 2))\n",
    "target_for_table = target_for_table.map({\n",
    "    'group3': 0,\n",
    "    'group4': 0,\n",
    "    'shh': 1,\n",
    "    'wnt': 2,\n",
    "})"
   ],
   "metadata": {
    "collapsed": false,
    "pycharm": {
     "name": "#%%\n"
    }
   }
  },
  {
   "cell_type": "code",
   "execution_count": null,
   "outputs": [],
   "source": [
    "#only used for metadata for which is train and which is test\n",
    "# X_train_for_table, X_test_for_table, _, _ = train_test_split(features_for_table, target_for_table,\n",
    "#                                                     test_size = 0.25, random_state = 42)\n",
    "X_train_for_table = features_for_table[train_idx]\n",
    "X_test_for_table = features_for_table[test_idx]"
   ],
   "metadata": {
    "collapsed": false,
    "pycharm": {
     "name": "#%%\n"
    }
   }
  },
  {
   "cell_type": "code",
   "execution_count": null,
   "outputs": [],
   "source": [
    "X_train_for_table['Set'] = 'training'\n",
    "X_test_for_table['Set'] = 'test'"
   ],
   "metadata": {
    "collapsed": false,
    "pycharm": {
     "name": "#%%\n"
    }
   }
  },
  {
   "cell_type": "code",
   "execution_count": null,
   "outputs": [],
   "source": [
    "X_for_table = pd.concat([X_train_for_table, X_test_for_table])\n",
    "X_for_table = pd.merge(metadata_df, X_for_table, left_index = True, right_index = True)"
   ],
   "metadata": {
    "collapsed": false,
    "pycharm": {
     "name": "#%%\n"
    }
   }
  },
  {
   "cell_type": "code",
   "execution_count": null,
   "outputs": [],
   "source": [
    "final_df = X_for_table[['molecular', 'Set']]\n",
    "# features_for_table = df.drop(['molecular','molec_id', 'dx_date','alive','os','pfs','seg_id'], axis = 1)\n",
    "features_for_table = df.drop(columns='molecular')\n",
    "target_for_table = X_for_table['molecular']\n",
    "target_for_table = target_for_table.map(dict(group3 = 0, shh = 1, wnt = 2))"
   ],
   "metadata": {
    "collapsed": false,
    "pycharm": {
     "name": "#%%\n"
    }
   }
  },
  {
   "cell_type": "code",
   "execution_count": null,
   "outputs": [],
   "source": [
    "X_table_reduced = features_for_table[reduced_features_list]"
   ],
   "metadata": {
    "collapsed": false,
    "pycharm": {
     "name": "#%%\n"
    }
   }
  },
  {
   "cell_type": "code",
   "execution_count": null,
   "outputs": [],
   "source": [
    "# sex_binarized = X_table_reduced['sex'].map(dict(M = 1, F = 0)).to_numpy()\n",
    "#\n",
    "# X_table_reduced['sex'] = sex_binarized"
   ],
   "metadata": {
    "collapsed": false,
    "pycharm": {
     "name": "#%%\n"
    }
   }
  },
  {
   "cell_type": "code",
   "execution_count": null,
   "outputs": [],
   "source": [
    "names = X_table_reduced.columns\n",
    "X_table_for_first = first_scaler.transform(X_table_reduced)\n",
    "X_table_for_first = pd.DataFrame(X_table_for_first, columns = names)"
   ],
   "metadata": {
    "collapsed": false,
    "pycharm": {
     "name": "#%%\n"
    }
   }
  },
  {
   "cell_type": "code",
   "execution_count": null,
   "outputs": [],
   "source": [
    "y_probs_after_first_table = nn_seq_1_model.predict_proba(X_table_for_first)"
   ],
   "metadata": {
    "collapsed": false,
    "pycharm": {
     "name": "#%%\n"
    }
   }
  },
  {
   "cell_type": "code",
   "execution_count": null,
   "outputs": [],
   "source": [
    "rf_1_table = pd.DataFrame(y_probs_after_first_table, columns = ['NN1 Group3 Prob','NN1 Non-Group3 Prob'])"
   ],
   "metadata": {
    "collapsed": false,
    "pycharm": {
     "name": "#%%\n"
    }
   }
  },
  {
   "cell_type": "code",
   "execution_count": null,
   "outputs": [],
   "source": [
    "final_df['NN1 Group3 Prob'] = rf_1_table['NN1 Group3 Prob']\n",
    "final_df['NN1 Non-Group3 Prob'] = rf_1_table['NN1 Non-Group3 Prob']"
   ],
   "metadata": {
    "collapsed": false,
    "pycharm": {
     "name": "#%%\n"
    }
   }
  },
  {
   "cell_type": "code",
   "execution_count": null,
   "outputs": [],
   "source": [
    "y_preds_after_first_table = nn_seq_1_model.predict(X_table_for_first)\n",
    "wnt_table_indices = np.where(y_preds_after_first_table == 0)\n",
    "other_table_indices = np.where(y_preds_after_first_table != 0)"
   ],
   "metadata": {
    "collapsed": false,
    "pycharm": {
     "name": "#%%\n"
    }
   }
  },
  {
   "cell_type": "code",
   "execution_count": null,
   "outputs": [],
   "source": [
    "y_table_for_wnt = np.array(y_preds_after_first_table)[wnt_table_indices]\n",
    "X_table_after_first_model = features_for_table.iloc[other_table_indices]\n",
    "X_table_after_first_model = X_table_after_first_model[second_reduced_features_list]\n",
    "X_table_after_first_model_arr = second_scaler.transform(X_table_after_first_model)"
   ],
   "metadata": {
    "collapsed": false,
    "pycharm": {
     "name": "#%%\n"
    }
   }
  },
  {
   "cell_type": "code",
   "execution_count": null,
   "outputs": [],
   "source": [
    "y_probs_after_second_table = nn_seq_2_model.predict_proba(X_table_after_first_model_arr)\n",
    "y_preds_after_second_table = nn_seq_2_model.predict(X_table_after_first_model_arr)"
   ],
   "metadata": {
    "collapsed": false,
    "pycharm": {
     "name": "#%%\n"
    }
   }
  },
  {
   "cell_type": "code",
   "execution_count": null,
   "outputs": [],
   "source": [
    "nn_2_table = pd.DataFrame(y_probs_after_second_table, columns = ['NN2 SHH Prob','NN2 WNT Prob'])"
   ],
   "metadata": {
    "collapsed": false,
    "pycharm": {
     "name": "#%%\n"
    }
   }
  },
  {
   "cell_type": "code",
   "execution_count": null,
   "outputs": [],
   "source": [
    "X_table_after_first_model['NN2 SHH Prob'] = np.array(nn_2_table['NN2 SHH Prob'])\n",
    "X_table_after_first_model['NN2 WNT Prob'] = np.array(nn_2_table['NN2 WNT Prob'])"
   ],
   "metadata": {
    "collapsed": false,
    "pycharm": {
     "name": "#%%\n"
    }
   }
  },
  {
   "cell_type": "code",
   "execution_count": null,
   "outputs": [],
   "source": [
    "X_table_after_first_model = X_table_after_first_model[['NN2 SHH Prob', 'NN2 WNT Prob']]"
   ],
   "metadata": {
    "collapsed": false,
    "pycharm": {
     "name": "#%%\n"
    }
   }
  },
  {
   "cell_type": "code",
   "execution_count": null,
   "outputs": [],
   "source": [
    "final_df = final_df.merge(X_table_after_first_model, how='left', left_index=True, right_index=True)"
   ],
   "metadata": {
    "collapsed": false,
    "pycharm": {
     "name": "#%%\n"
    }
   }
  },
  {
   "cell_type": "code",
   "execution_count": null,
   "outputs": [],
   "source": [
    "def f(row):\n",
    "    if row['NN1 Non-Group3 Prob'] < row['NN1 Group3 Prob']:\n",
    "        val = 'group3'\n",
    "    else:\n",
    "        if row['NN2 SHH Prob'] > row['NN2 WNT Prob']:\n",
    "            val = 'shh'\n",
    "        else:\n",
    "            val = 'wnt'\n",
    "    return val"
   ],
   "metadata": {
    "collapsed": false,
    "pycharm": {
     "name": "#%%\n"
    }
   }
  },
  {
   "cell_type": "code",
   "execution_count": null,
   "outputs": [],
   "source": [
    "# final_df['molec_id'] = df['molec_id']"
   ],
   "metadata": {
    "collapsed": false,
    "pycharm": {
     "name": "#%%\n"
    }
   }
  },
  {
   "cell_type": "code",
   "execution_count": null,
   "outputs": [],
   "source": [
    "final_df['Pred Path'] = final_df.apply(f, axis = 1)"
   ],
   "metadata": {
    "collapsed": false,
    "pycharm": {
     "name": "#%%\n"
    }
   }
  },
  {
   "cell_type": "code",
   "execution_count": null,
   "outputs": [],
   "source": [
    "# Formatting\n",
    "# final_df.columns = ['True Molec', 'Set', 'NN1 Non-Group3 Prob', 'NN1 Group3 Prob', 'NN2 SHH Prob', 'NN2 WNT Prob', 'Molec Id', 'Pred Molec']\n",
    "final_df.columns = ['True Molec', 'Set', 'NN1 Non-Group3 Prob', 'NN1 Group3 Prob', 'NN2 SHH Prob', 'NN2 WNT Prob', 'Pred Molec']\n",
    "cols = final_df.columns.tolist()\n",
    "cols = ['NN1 Non-Group3 Prob', 'NN1 Group3 Prob', 'NN2 SHH Prob', 'NN2 WNT Prob',\n",
    "        'Pred Molec', 'True Molec', 'Set']\n",
    "final_df = final_df[cols]\n",
    "final_df = final_df.round(4)"
   ],
   "metadata": {
    "collapsed": false,
    "pycharm": {
     "name": "#%%\n"
    }
   }
  },
  {
   "cell_type": "code",
   "execution_count": null,
   "metadata": {
    "pycharm": {
     "name": "#%%\n"
    }
   },
   "outputs": [],
   "source": [
    "# Formatting\n",
    "# final_df.columns = ['True Molec', 'Set', 'NN1 Non-Group3 Prob', 'NN1 Group3 Prob', 'NN2 SHH Prob', 'NN2 WNT Prob', 'Molec Id', 'Pred Molec']\n",
    "final_df.columns = ['True Molec', 'Set', 'NN1 Non-Group3 Prob', 'NN1 Group3 Prob', 'NN2 SHH Prob', 'NN2 WNT Prob', 'Pred Molec']\n",
    "cols = final_df.columns.tolist()\n",
    "cols = ['NN1 Non-Group3 Prob', 'NN1 Group3 Prob', 'NN2 SHH Prob', 'NN2 WNT Prob',\n",
    "        'Pred Molec', 'True Molec', 'Set']\n",
    "final_df = final_df[cols]\n",
    "final_df = final_df.round(4)"
   ]
  },
  {
   "cell_type": "code",
   "execution_count": null,
   "metadata": {
    "scrolled": false,
    "pycharm": {
     "name": "#%%\n"
    }
   },
   "outputs": [],
   "source": [
    "pd.set_option('display.max_rows', None)\n",
    "print(final_df)"
   ]
  },
  {
   "cell_type": "code",
   "execution_count": null,
   "outputs": [],
   "source": [
    "final_df.to_csv('seq_classification_results.csv')"
   ],
   "metadata": {
    "collapsed": false,
    "pycharm": {
     "name": "#%%\n"
    }
   }
  }
 ],
 "metadata": {
  "kernelspec": {
   "display_name": "Python 3",
   "language": "python",
   "name": "python3"
  },
  "language_info": {
   "codemirror_mode": {
    "name": "ipython",
    "version": 3
   },
   "file_extension": ".py",
   "mimetype": "text/x-python",
   "name": "python",
   "nbconvert_exporter": "python",
   "pygments_lexer": "ipython3",
   "version": "3.8.3"
  }
 },
 "nbformat": 4,
 "nbformat_minor": 4
}